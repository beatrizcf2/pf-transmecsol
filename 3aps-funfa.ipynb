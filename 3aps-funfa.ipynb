{
 "cells": [
  {
   "cell_type": "markdown",
   "metadata": {},
   "source": [
    "# APS 3\n",
    "\n",
    "___"
   ]
  },
  {
   "cell_type": "markdown",
   "metadata": {},
   "source": [
    "## <font style='font-family:Georgia' color='teal'> Estudo de uma treliça plana</font> \n"
   ]
  },
  {
   "cell_type": "markdown",
   "metadata": {},
   "source": [
    "####  <font style='font-family:Georgia' color='darkturquoise'> André Tavernaro || Antonio Fuziy || Gabriela Mitu || Gabriella Cukier</font> "
   ]
  },
  {
   "cell_type": "markdown",
   "metadata": {},
   "source": [
    "### Importando bibliotecas e valores"
   ]
  },
  {
   "cell_type": "code",
   "execution_count": 1,
   "metadata": {},
   "outputs": [],
   "source": [
    "from funcoesTermosol import *\n",
    "import numpy as np\n",
    "import math"
   ]
  },
  {
   "cell_type": "markdown",
   "metadata": {},
   "source": [
    "### Representação da estrutura"
   ]
  },
  {
   "cell_type": "code",
   "execution_count": 2,
   "metadata": {
    "scrolled": false
   },
   "outputs": [
    {
     "data": {
      "image/png": "[encoded data removed]",
      "text/plain": [
       "<Figure size 432x288 with 1 Axes>"
      ]
     },
     "metadata": {
      "needs_background": "light"
     },
     "output_type": "display_data"
    }
   ],
   "source": [
    "entrada = \"entrada-PF.xlsx\"\n",
    "\n",
    "[nn,N,nm,Inc,nc,F,nr,R] = importa(entrada)\n",
    "\n",
    "plota(N, Inc)\n",
    "# geraSaida()"
   ]
  },
  {
   "cell_type": "markdown",
   "metadata": {},
   "source": [
    "### Informações sobre a treliça\n",
    "\n",
    "* nn: número de nós\n",
    "* N: Matriz dos nós\n",
    "* nm: número de membros\n",
    "* Inc: Matriz de incidência. Colunas:\n",
    "    1. Nó 1\n",
    "    2. Nó 2\n",
    "    3. E\n",
    "    4. A\n",
    "* nc: número de cargas\n",
    "* F: forças (Vetor carregamento)\n",
    "* nr: número de restrições\n",
    "* R: Restrições (Vetor com os graus de liberdade)"
   ]
  },
  {
   "cell_type": "code",
   "execution_count": 3,
   "metadata": {},
   "outputs": [],
   "source": [
    "# Comprimento \n",
    "L = 5\n",
    "#numero de nodes\n",
    "n = 8"
   ]
  },
  {
   "cell_type": "markdown",
   "metadata": {},
   "source": [
    "### Gerando a matriz de conectividade transposta"
   ]
  },
  {
   "cell_type": "code",
   "execution_count": 4,
   "metadata": {},
   "outputs": [
    {
     "data": {
      "text/plain": [
       "array([[ 0, -1, -1, -1,  0,  0,  0,  0,  0],\n",
       "       [-1,  0,  0,  1,  0,  0,  0,  0,  0],\n",
       "       [ 0,  1,  0,  0, -1, -1, -1,  0,  0],\n",
       "       [ 1,  0,  1,  0,  1,  0,  0, -1,  0],\n",
       "       [ 0,  0,  0,  0,  0,  1,  0,  0, -1],\n",
       "       [ 0,  0,  0,  0,  0,  0,  1,  1,  1]])"
      ]
     },
     "execution_count": 4,
     "metadata": {},
     "output_type": "execute_result"
    }
   ],
   "source": [
    "C = []\n",
    "for i in range(nm):\n",
    "        C_i = nn*[0]\n",
    "\n",
    "        no_1 = int(Inc[i, 0])\n",
    "        no_2 = int(Inc[i, 1])\n",
    "\n",
    "        C_i[no_1-1] = -1\n",
    "        C_i[no_2-1] = 1\n",
    "        C.append(C_i) \n",
    "\n",
    "C_t = np.array(C).T\n",
    "C_t"
   ]
  },
  {
   "cell_type": "markdown",
   "metadata": {},
   "source": [
    "### Matriz dos membros (M)"
   ]
  },
  {
   "cell_type": "code",
   "execution_count": 5,
   "metadata": {
    "scrolled": true
   },
   "outputs": [
    {
     "name": "stdout",
     "output_type": "stream",
     "text": [
      "[[0.1 0.  0.8 0.7 0.8 0.  1.  0.2 1. ]\n",
      " [1.  1.  1.  0.  0.  1.  1.  1.  0. ]]\n"
     ]
    }
   ],
   "source": [
    "M = np.matmul(N, C_t)\n",
    "print(M)"
   ]
  },
  {
   "cell_type": "markdown",
   "metadata": {},
   "source": [
    "### Obtendo Se, Ke e Kg"
   ]
  },
  {
   "cell_type": "code",
   "execution_count": 6,
   "metadata": {},
   "outputs": [
    {
     "name": "stdout",
     "output_type": "stream",
     "text": [
      "[[ 2.57291597e+08  5.65426164e+07 -2.12057504e+08  0.00000000e+00\n",
      "   0.00000000e+00  0.00000000e+00 -4.52340931e+07 -5.65426164e+07\n",
      "   0.00000000e+00  0.00000000e+00  0.00000000e+00  0.00000000e+00]\n",
      " [ 5.65426164e+07  2.19118523e+08  0.00000000e+00  0.00000000e+00\n",
      "   0.00000000e+00 -1.48440253e+08 -5.65426164e+07 -7.06782705e+07\n",
      "   0.00000000e+00  0.00000000e+00  0.00000000e+00  0.00000000e+00]\n",
      " [-2.12057504e+08  0.00000000e+00  2.13519916e+08  1.46241161e+07\n",
      "   0.00000000e+00  0.00000000e+00 -1.46241161e+06 -1.46241161e+07\n",
      "   0.00000000e+00  0.00000000e+00  0.00000000e+00  0.00000000e+00]\n",
      " [ 0.00000000e+00  0.00000000e+00  1.46241161e+07  1.46241161e+08\n",
      "   0.00000000e+00  0.00000000e+00 -1.46241161e+07 -1.46241161e+08\n",
      "   0.00000000e+00  0.00000000e+00  0.00000000e+00  0.00000000e+00]\n",
      " [ 0.00000000e+00  0.00000000e+00  0.00000000e+00  0.00000000e+00\n",
      "   2.38031871e+08  5.24815547e+07 -1.85550316e+08  0.00000000e+00\n",
      "   0.00000000e+00  0.00000000e+00 -5.24815547e+07 -5.24815547e+07]\n",
      " [ 0.00000000e+00 -1.48440253e+08  0.00000000e+00  0.00000000e+00\n",
      "   5.24815547e+07  3.49362060e+08  0.00000000e+00  0.00000000e+00\n",
      "   0.00000000e+00 -1.48440253e+08 -5.24815547e+07 -5.24815547e+07]\n",
      " [-4.52340931e+07 -5.65426164e+07 -1.46241161e+06 -1.46241161e+07\n",
      "  -1.85550316e+08  0.00000000e+00  2.37845192e+08  9.91585869e+07\n",
      "   0.00000000e+00  0.00000000e+00 -5.59837090e+06 -2.79918545e+07]\n",
      " [-5.65426164e+07 -7.06782705e+07 -1.46241161e+07 -1.46241161e+08\n",
      "   0.00000000e+00  0.00000000e+00  9.91585869e+07  3.56878704e+08\n",
      "   0.00000000e+00  0.00000000e+00 -2.79918545e+07 -1.39959273e+08]\n",
      " [ 0.00000000e+00  0.00000000e+00  0.00000000e+00  0.00000000e+00\n",
      "   0.00000000e+00  0.00000000e+00  0.00000000e+00  0.00000000e+00\n",
      "   1.48440253e+08  0.00000000e+00 -1.48440253e+08  0.00000000e+00]\n",
      " [ 0.00000000e+00  0.00000000e+00  0.00000000e+00  0.00000000e+00\n",
      "   0.00000000e+00 -1.48440253e+08  0.00000000e+00  0.00000000e+00\n",
      "   0.00000000e+00  1.48440253e+08  0.00000000e+00  0.00000000e+00]\n",
      " [ 0.00000000e+00  0.00000000e+00  0.00000000e+00  0.00000000e+00\n",
      "  -5.24815547e+07 -5.24815547e+07 -5.59837090e+06 -2.79918545e+07\n",
      "  -1.48440253e+08  0.00000000e+00  2.06520178e+08  8.04734092e+07]\n",
      " [ 0.00000000e+00  0.00000000e+00  0.00000000e+00  0.00000000e+00\n",
      "  -5.24815547e+07 -5.24815547e+07 -2.79918545e+07 -1.39959273e+08\n",
      "   0.00000000e+00  0.00000000e+00  8.04734092e+07  1.92440827e+08]]\n"
     ]
    }
   ],
   "source": [
    "len_linhas_M = len(M)\n",
    "len_linhas_C = len(C_t)\n",
    "Kg = np.zeros((nn*2, nn*2))\n",
    "for i in range(0, nm):\n",
    "    E = Inc[i,2]\n",
    "    A = Inc[i,3]\n",
    "    \n",
    "    n1 = Inc[i,0]\n",
    "    n2 = Inc[i,1]\n",
    "    \n",
    "    x1 = N[0][int(Inc[:,0][i])-1]\n",
    "    y1 = N[1][int(Inc[:,0][i])-1]\n",
    "    x2 = N[0][int(Inc[:,1][i])-1]\n",
    "    y2 = N[1][int(Inc[:,1][i])-1]    \n",
    "    \n",
    "    L = math.sqrt(((x1-x2)**2+(y1-y2)**2))\n",
    "    \n",
    "    const = E*A/L\n",
    "    \n",
    "    M_aux = M[:,i]\n",
    "    M_aux.shape = [len_linhas_M, 1]\n",
    "    M_aux2 = np.transpose(M_aux)\n",
    "    Se = (const * np.matmul(M_aux, M_aux2)) / (np.linalg.norm(M[:,i])**2)\n",
    "\n",
    "    C_aux = C_t[:,i]\n",
    "    C_aux.shape = [len_linhas_C, 1]\n",
    "    C_aux2 = np.transpose(C_aux)\n",
    "    \n",
    "    multi_C_aux = np.matmul(C_aux, C_aux2)\n",
    "    Ke = np.kron(multi_C_aux, Se)\n",
    "    Kg += Ke\n",
    "# print(Se)\n",
    "print(Kg)"
   ]
  },
  {
   "cell_type": "markdown",
   "metadata": {},
   "source": [
    "### Deslocamento nodal"
   ]
  },
  {
   "cell_type": "markdown",
   "metadata": {},
   "source": [
    "Aplicando as condições de contorno para a matriz das forças:"
   ]
  },
  {
   "cell_type": "code",
   "execution_count": 7,
   "metadata": {
    "scrolled": true
   },
   "outputs": [
    {
     "data": {
      "text/plain": [
       "array([0., 0., 0., 0., 0., 0., 0., 1.])"
      ]
     },
     "execution_count": 7,
     "metadata": {},
     "output_type": "execute_result"
    }
   ],
   "source": [
    "F_c = np.delete(F, R.astype(int))\n",
    "F_c\n"
   ]
  },
  {
   "cell_type": "markdown",
   "metadata": {},
   "source": [
    "Aplicando as condições de contorno para a matriz da rigidez:"
   ]
  },
  {
   "cell_type": "code",
   "execution_count": 8,
   "metadata": {},
   "outputs": [
    {
     "data": {
      "text/plain": [
       "array([[ 2.38031871e+08,  5.24815547e+07, -1.85550316e+08,\n",
       "         0.00000000e+00,  0.00000000e+00,  0.00000000e+00,\n",
       "        -5.24815547e+07, -5.24815547e+07],\n",
       "       [ 5.24815547e+07,  3.49362060e+08,  0.00000000e+00,\n",
       "         0.00000000e+00,  0.00000000e+00, -1.48440253e+08,\n",
       "        -5.24815547e+07, -5.24815547e+07],\n",
       "       [-1.85550316e+08,  0.00000000e+00,  2.37845192e+08,\n",
       "         9.91585869e+07,  0.00000000e+00,  0.00000000e+00,\n",
       "        -5.59837090e+06, -2.79918545e+07],\n",
       "       [ 0.00000000e+00,  0.00000000e+00,  9.91585869e+07,\n",
       "         3.56878704e+08,  0.00000000e+00,  0.00000000e+00,\n",
       "        -2.79918545e+07, -1.39959273e+08],\n",
       "       [ 0.00000000e+00,  0.00000000e+00,  0.00000000e+00,\n",
       "         0.00000000e+00,  1.48440253e+08,  0.00000000e+00,\n",
       "        -1.48440253e+08,  0.00000000e+00],\n",
       "       [ 0.00000000e+00, -1.48440253e+08,  0.00000000e+00,\n",
       "         0.00000000e+00,  0.00000000e+00,  1.48440253e+08,\n",
       "         0.00000000e+00,  0.00000000e+00],\n",
       "       [-5.24815547e+07, -5.24815547e+07, -5.59837090e+06,\n",
       "        -2.79918545e+07, -1.48440253e+08,  0.00000000e+00,\n",
       "         2.06520178e+08,  8.04734092e+07],\n",
       "       [-5.24815547e+07, -5.24815547e+07, -2.79918545e+07,\n",
       "        -1.39959273e+08,  0.00000000e+00,  0.00000000e+00,\n",
       "         8.04734092e+07,  1.92440827e+08]])"
      ]
     },
     "execution_count": 8,
     "metadata": {},
     "output_type": "execute_result"
    }
   ],
   "source": [
    "Kg_c = np.delete(Kg, R.astype(int),0)\n",
    "Kg_c = np.delete(Kg_c, R.astype(int), 1)\n",
    "Kg_c"
   ]
  },
  {
   "cell_type": "markdown",
   "metadata": {},
   "source": [
    "___\n",
    "**Funções de Jacobi e Gauss-Seidel utilizadas na aula 21:**"
   ]
  },
  {
   "cell_type": "code",
   "execution_count": 9,
   "metadata": {},
   "outputs": [],
   "source": [
    "def jacobi(k,F,ite,tol):\n",
    "    #inicializando X com \n",
    "    x = np.zeros(k.shape[0])\n",
    "\n",
    "    # Cria um vetor com os elementos da diagonal de k                       \n",
    "    diagonal = np.diag(k)\n",
    "    # Subtrai a diagonal de K\n",
    "    k_d = k - np.diagflat(diagonal)\n",
    "    # loop até chegar abaixo da tolerância ou passar do número máximo de iterações\n",
    "    for i in range(ite):\n",
    "        x2 = (F - np.matmul(k_d,x)) / diagonal\n",
    "        error =  max(abs((x2 - x)/x2) )\n",
    "        if error < tol:\n",
    "            print(f\"Erro máximo: {error}\")\n",
    "            print(f\"Convergiu na iteração: {i}\")\n",
    "            return x2\n",
    "        \n",
    "        x = x2\n",
    "    return x"
   ]
  },
  {
   "cell_type": "code",
   "execution_count": 10,
   "metadata": {},
   "outputs": [],
   "source": [
    "def gauss_seidel(A, b, ite, tol):\n",
    "    x = np.zeros_like(b, dtype=np.double)\n",
    "    \n",
    "    #Iterate\n",
    "    for k in range(ite):\n",
    "        \n",
    "        x_old  = x.copy()\n",
    "        \n",
    "        #Loop over rows\n",
    "        for i in range(A.shape[0]):\n",
    "            x[i] = (b[i] - np.dot(A[i,:i], x[:i]) - np.dot(A[i,(i+1):], x_old[(i+1):])) / A[i ,i]\n",
    "            \n",
    "        #Stop condition \n",
    "        if np.linalg.norm(x - x_old, ord=np.inf) / np.linalg.norm(x, ord=np.inf) < tol:\n",
    "            break\n",
    "            \n",
    "    return x"
   ]
  },
  {
   "cell_type": "markdown",
   "metadata": {},
   "source": [
    "___\n",
    "Utilizando Jacobi, Gauss-Seidel e a forma geral para cálculo da matriz **U**"
   ]
  },
  {
   "cell_type": "code",
   "execution_count": 11,
   "metadata": {},
   "outputs": [
    {
     "name": "stderr",
     "output_type": "stream",
     "text": [
      "<ipython-input-9-262c35adf621>:12: RuntimeWarning: invalid value encountered in true_divide\n",
      "  error =  max(abs((x2 - x)/x2) )\n"
     ]
    }
   ],
   "source": [
    "u_jacobi = jacobi(Kg_c, F_c, 100, 1e-5)"
   ]
  },
  {
   "cell_type": "code",
   "execution_count": 12,
   "metadata": {},
   "outputs": [
    {
     "data": {
      "text/plain": [
       "array([ 0.0014296 ,  0.00119362, -0.00040273,  0.00079761,  0.00245309,\n",
       "       -0.00102297, -0.00286239, -0.00208587])"
      ]
     },
     "execution_count": 12,
     "metadata": {},
     "output_type": "execute_result"
    }
   ],
   "source": [
    "u_jacobi"
   ]
  },
  {
   "cell_type": "code",
   "execution_count": 13,
   "metadata": {},
   "outputs": [],
   "source": [
    "u_gauss = gauss_seidel(Kg_c, F_c, 100, 1e-5)"
   ]
  },
  {
   "cell_type": "code",
   "execution_count": 14,
   "metadata": {},
   "outputs": [
    {
     "data": {
      "text/plain": [
       "array([-1.71371157e-08, -1.51309254e-09, -1.59657044e-08,  1.08941429e-08,\n",
       "       -4.92631874e-08, -1.51309254e-09, -4.93604137e-08,  2.63521808e-08])"
      ]
     },
     "execution_count": 14,
     "metadata": {},
     "output_type": "execute_result"
    }
   ],
   "source": [
    "u_gauss"
   ]
  },
  {
   "cell_type": "markdown",
   "metadata": {},
   "source": [
    "**Deslocamentos nodais**"
   ]
  },
  {
   "cell_type": "code",
   "execution_count": 15,
   "metadata": {},
   "outputs": [
    {
     "data": {
      "text/plain": [
       "array([-1.89118284e-08, -1.68417929e-09, -1.75644850e-08,  1.15250487e-08,\n",
       "       -5.28786343e-08, -1.68417929e-09, -5.28786343e-08,  2.75190481e-08])"
      ]
     },
     "execution_count": 15,
     "metadata": {},
     "output_type": "execute_result"
    }
   ],
   "source": [
    "U_ar = np.linalg.solve(Kg_c, F_c)\n",
    "U_ar"
   ]
  },
  {
   "cell_type": "markdown",
   "metadata": {},
   "source": [
    "**Ajustando o tamanho das matrizes U**"
   ]
  },
  {
   "cell_type": "code",
   "execution_count": 16,
   "metadata": {},
   "outputs": [
    {
     "data": {
      "text/plain": [
       "array([[ 0.        ],\n",
       "       [ 0.        ],\n",
       "       [ 0.        ],\n",
       "       [ 0.        ],\n",
       "       [ 0.0014296 ],\n",
       "       [ 0.00119362],\n",
       "       [-0.00040273],\n",
       "       [ 0.00079761],\n",
       "       [ 0.00245309],\n",
       "       [-0.00102297],\n",
       "       [-0.00286239],\n",
       "       [-0.00208587]])"
      ]
     },
     "execution_count": 16,
     "metadata": {},
     "output_type": "execute_result"
    }
   ],
   "source": [
    "u_jacobi_ajustado = np.zeros((nn*2,1))\n",
    "i = 0\n",
    "for e in range(len(u_jacobi_ajustado)):\n",
    "    if e not in R:\n",
    "        u_jacobi_ajustado[e] += u_jacobi[i]\n",
    "        i += 1\n",
    "u_jacobi_ajustado"
   ]
  },
  {
   "cell_type": "code",
   "execution_count": 17,
   "metadata": {},
   "outputs": [
    {
     "data": {
      "text/plain": [
       "array([[ 0.00000000e+00],\n",
       "       [ 0.00000000e+00],\n",
       "       [ 0.00000000e+00],\n",
       "       [ 0.00000000e+00],\n",
       "       [-1.71371157e-08],\n",
       "       [-1.51309254e-09],\n",
       "       [-1.59657044e-08],\n",
       "       [ 1.08941429e-08],\n",
       "       [-4.92631874e-08],\n",
       "       [-1.51309254e-09],\n",
       "       [-4.93604137e-08],\n",
       "       [ 2.63521808e-08]])"
      ]
     },
     "execution_count": 17,
     "metadata": {},
     "output_type": "execute_result"
    }
   ],
   "source": [
    "u_gauss_ajustado = np.zeros((nn*2,1))\n",
    "i = 0\n",
    "for e in range(len(u_gauss_ajustado)):\n",
    "    if e not in R:\n",
    "        u_gauss_ajustado[e] += u_gauss[i]\n",
    "        i += 1\n",
    "u_gauss_ajustado"
   ]
  },
  {
   "cell_type": "code",
   "execution_count": 18,
   "metadata": {},
   "outputs": [
    {
     "data": {
      "text/plain": [
       "array([[ 0.00000000e+00],\n",
       "       [ 0.00000000e+00],\n",
       "       [ 0.00000000e+00],\n",
       "       [ 0.00000000e+00],\n",
       "       [-1.89118284e-08],\n",
       "       [-1.68417929e-09],\n",
       "       [-1.75644850e-08],\n",
       "       [ 1.15250487e-08],\n",
       "       [-5.28786343e-08],\n",
       "       [-1.68417929e-09],\n",
       "       [-5.28786343e-08],\n",
       "       [ 2.75190481e-08]])"
      ]
     },
     "execution_count": 18,
     "metadata": {},
     "output_type": "execute_result"
    }
   ],
   "source": [
    "u = np.zeros((nn*2,1))\n",
    "i = 0\n",
    "for e in range(len(u)):\n",
    "    if e not in R:\n",
    "        u[e] += U_ar[i]\n",
    "        i += 1\n",
    "u"
   ]
  },
  {
   "cell_type": "markdown",
   "metadata": {},
   "source": [
    "### Reações de apoio"
   ]
  },
  {
   "cell_type": "code",
   "execution_count": 19,
   "metadata": {
    "scrolled": false
   },
   "outputs": [
    {
     "data": {
      "text/plain": [
       "array([[ 1.42857143e-01],\n",
       "       [ 4.28571429e-01],\n",
       "       [-1.42857143e-01],\n",
       "       [-1.42857143e+00],\n",
       "       [ 0.00000000e+00],\n",
       "       [ 4.44089210e-16],\n",
       "       [-8.88178420e-16],\n",
       "       [-2.22044605e-16],\n",
       "       [ 0.00000000e+00],\n",
       "       [ 2.38745023e-16],\n",
       "       [ 0.00000000e+00],\n",
       "       [ 1.00000000e+00]])"
      ]
     },
     "execution_count": 19,
     "metadata": {},
     "output_type": "execute_result"
    }
   ],
   "source": [
    "P = np.matmul(Kg,u)\n",
    "P"
   ]
  },
  {
   "cell_type": "code",
   "execution_count": 20,
   "metadata": {
    "scrolled": true
   },
   "outputs": [
    {
     "data": {
      "text/plain": [
       "array([[ 0.14285714],\n",
       "       [ 0.42857143],\n",
       "       [-0.14285714],\n",
       "       [-1.42857143]])"
      ]
     },
     "execution_count": 20,
     "metadata": {},
     "output_type": "execute_result"
    }
   ],
   "source": [
    "P_r = np.zeros((nr,1))\n",
    "for i in range(nr):  \n",
    "    index = int(R[i])\n",
    "    P_r[i] = P[index]    \n",
    "P_r"
   ]
  },
  {
   "cell_type": "markdown",
   "metadata": {},
   "source": [
    "### Deformações, Tenões e Forças internas"
   ]
  },
  {
   "cell_type": "code",
   "execution_count": null,
   "metadata": {},
   "outputs": [],
   "source": []
  },
  {
   "cell_type": "code",
   "execution_count": 21,
   "metadata": {},
   "outputs": [],
   "source": [
    "deformacoes=[]\n",
    "tensoes=[]\n",
    "forcas=[]\n",
    "for i in range (nm):\n",
    "        \n",
    "    matriz = [\n",
    "            u[(int(Inc[i, 0])-1)*2], \n",
    "            u[(int(Inc[i, 0])-1)*2 +1], \n",
    "            u[(int(Inc[i, 1])-1)*2], \n",
    "            u[int(Inc[i, 1]-1)*2 +1]\n",
    "    ]\n",
    "    \n",
    "    x1 = N[0][int(Inc[:,0][i])-1]\n",
    "    y1 = N[1][int(Inc[:,0][i])-1]\n",
    "    x2 = N[0][int(Inc[:,1][i])-1]\n",
    "    y2 = N[1][int(Inc[:,1][i])-1]    \n",
    "    \n",
    "    L = math.sqrt(((x1-x2)**2+(y1-y2)**2))  \n",
    "    \n",
    "    E =  Inc[i, 2]\n",
    "    A = Inc[i,3]\n",
    "    const = E*A/L\n",
    "    \n",
    "    s = (y2-y1)/L\n",
    "    c = (x2-x1)/L\n",
    "    \n",
    "    C = [-c, -s, c, s]\n",
    "\n",
    "    deformacao = (1/L) * np.matmul(C, matriz)\n",
    "    tensao = deformacao*E\n",
    "    forca=tensao*A\n",
    "    \n",
    "    deformacoes.append(deformacao)\n",
    "    tensoes.append(tensao)\n",
    "    forcas.append(forca)\n",
    "\n"
   ]
  },
  {
   "cell_type": "code",
   "execution_count": 22,
   "metadata": {},
   "outputs": [
    {
     "data": {
      "text/plain": [
       "[array([9.67188138e-09]),\n",
       " array([-1.68417929e-09]),\n",
       " array([-1.54057275e-09]),\n",
       " array([0.]),\n",
       " array([1.68417929e-09]),\n",
       " array([1.44756607e-24]),\n",
       " array([-2.3817892e-09]),\n",
       " array([8.58766307e-09]),\n",
       " array([0.])]"
      ]
     },
     "execution_count": 22,
     "metadata": {},
     "output_type": "execute_result"
    }
   ],
   "source": [
    "deformacoes"
   ]
  },
  {
   "cell_type": "code",
   "execution_count": 23,
   "metadata": {},
   "outputs": [
    {
     "data": {
      "text/plain": [
       "[array([2031.09508897]),\n",
       " array([-353.67765132]),\n",
       " array([-323.52027734]),\n",
       " array([0.]),\n",
       " array([353.67765132]),\n",
       " array([3.03988875e-13]),\n",
       " array([-500.1757312]),\n",
       " array([1803.40924558]),\n",
       " array([0.])]"
      ]
     },
     "execution_count": 23,
     "metadata": {},
     "output_type": "execute_result"
    }
   ],
   "source": [
    "tensoes"
   ]
  },
  {
   "cell_type": "code",
   "execution_count": 24,
   "metadata": {},
   "outputs": [
    {
     "data": {
      "text/plain": [
       "[array([1.43569652]),\n",
       " array([-0.25]),\n",
       " array([-0.22868301]),\n",
       " array([0.]),\n",
       " array([0.25]),\n",
       " array([2.14877074e-16]),\n",
       " array([-0.35355339]),\n",
       " array([1.27475488]),\n",
       " array([0.])]"
      ]
     },
     "execution_count": 24,
     "metadata": {},
     "output_type": "execute_result"
    }
   ],
   "source": [
    "forcas"
   ]
  },
  {
   "cell_type": "markdown",
   "metadata": {},
   "source": [
    "___\n",
    "**Gerando Saídas com as 3 matrizes U calculadas anteriormente**"
   ]
  },
  {
   "cell_type": "code",
   "execution_count": 25,
   "metadata": {},
   "outputs": [],
   "source": [
    "geraSaida(\"geral\", P_r, u, deformacoes, forcas, tensoes)"
   ]
  },
  {
   "cell_type": "code",
   "execution_count": 26,
   "metadata": {},
   "outputs": [],
   "source": [
    "geraSaida(\"jacobi\", P_r, u_jacobi_ajustado, deformacoes, forcas, tensoes)"
   ]
  },
  {
   "cell_type": "code",
   "execution_count": 27,
   "metadata": {},
   "outputs": [],
   "source": [
    "geraSaida(\"gauss\", P_r, u_gauss_ajustado, deformacoes, forcas, tensoes)"
   ]
  },
  {
   "cell_type": "code",
   "execution_count": 28,
   "metadata": {},
   "outputs": [
    {
     "data": {
      "text/plain": [
       "array([1.43569652])"
      ]
     },
     "execution_count": 28,
     "metadata": {},
     "output_type": "execute_result"
    }
   ],
   "source": [
    "max(forcas)"
   ]
  },
  {
   "cell_type": "code",
   "execution_count": 29,
   "metadata": {},
   "outputs": [
    {
     "data": {
      "text/plain": [
       "[array([1.43569652]),\n",
       " array([-0.25]),\n",
       " array([-0.22868301]),\n",
       " array([0.]),\n",
       " array([0.25]),\n",
       " array([2.14877074e-16]),\n",
       " array([-0.35355339]),\n",
       " array([1.27475488]),\n",
       " array([0.])]"
      ]
     },
     "execution_count": 29,
     "metadata": {},
     "output_type": "execute_result"
    }
   ],
   "source": [
    "forcas"
   ]
  },
  {
   "cell_type": "code",
   "execution_count": null,
   "metadata": {},
   "outputs": [],
   "source": []
  }
 ],
 "metadata": {
  "kernelspec": {
   "display_name": "Python 3",
   "language": "python",
   "name": "python3"
  },
  "language_info": {
   "codemirror_mode": {
    "name": "ipython",
    "version": 3
   },
   "file_extension": ".py",
   "mimetype": "text/x-python",
   "name": "python",
   "nbconvert_exporter": "python",
   "pygments_lexer": "ipython3",
   "version": "3.8.3"
  }
 },
 "nbformat": 4,
 "nbformat_minor": 2
}
