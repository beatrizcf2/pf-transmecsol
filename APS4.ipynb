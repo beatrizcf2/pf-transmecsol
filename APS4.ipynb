{
 "cells": [
  {
   "cell_type": "code",
   "execution_count": 1,
   "metadata": {},
   "outputs": [],
   "source": [
    "import xlrd\n",
    "import numpy as np\n",
    "xlrd.xlsx.ensure_elementtree_imported(False, None)\n",
    "xlrd.xlsx.Element_has_iter = True\n",
    "import math"
   ]
  },
  {
   "cell_type": "code",
   "execution_count": 2,
   "metadata": {},
   "outputs": [],
   "source": [
    "import warnings\n",
    "warnings.filterwarnings('ignore')"
   ]
  },
  {
   "cell_type": "code",
   "execution_count": 3,
   "metadata": {},
   "outputs": [],
   "source": [
    "def importa(entradaNome):\n",
    "    \n",
    "    import numpy as np\n",
    "    import xlrd\n",
    "    \n",
    "    arquivo = xlrd.open_workbook(entradaNome)\n",
    "    \n",
    "    ################################################## Ler os nos\n",
    "    nos = arquivo.sheet_by_name('Nos')\n",
    "    \n",
    "    # Numero de nos\n",
    "    nn = int(nos.cell(1,3).value)\n",
    "                 \n",
    "    # Matriz dos nós\n",
    "    N = np.zeros((2,nn))\n",
    "    \n",
    "    for c in range(nn):\n",
    "        N[0,c] = nos.cell(c+1,0).value\n",
    "        N[1,c] = nos.cell(c+1,1).value\n",
    "    \n",
    "    ################################################## Ler a incidencia\n",
    "    incid = arquivo.sheet_by_name('Incidencia')\n",
    "    \n",
    "    # Numero de membros\n",
    "    nm = int(incid.cell(1,5).value)\n",
    "                 \n",
    "    # Matriz de incidencia\n",
    "    Inc = np.zeros((nm,4))\n",
    "    \n",
    "    for c in range(nm):\n",
    "        Inc[c,0] = int(incid.cell(c+1,0).value)\n",
    "        Inc[c,1] = int(incid.cell(c+1,1).value)\n",
    "        Inc[c,2] = incid.cell(c+1,2).value\n",
    "        Inc[c,3] = incid.cell(c+1,3).value\n",
    "    \n",
    "    ################################################## Ler as cargas\n",
    "    carg = arquivo.sheet_by_name('Carregamento')\n",
    "    \n",
    "    # Numero de cargas\n",
    "    nc = int(carg.cell(1,4).value)\n",
    "                 \n",
    "    # Vetor carregamento\n",
    "    F = np.zeros((nn*2,1))\n",
    "    \n",
    "    for c in range(nc):\n",
    "        no = carg.cell(c+1,0).value\n",
    "        xouy = carg.cell(c+1,1).value\n",
    "        GDL = int(no*2-(2-xouy)) \n",
    "        F[GDL-1,0] = carg.cell(c+1,2).value\n",
    "         \n",
    "    ################################################## Ler restricoes\n",
    "    restr = arquivo.sheet_by_name('Restricao')\n",
    "    \n",
    "    # Numero de restricoes\n",
    "    nr = int(restr.cell(1,3).value)\n",
    "                 \n",
    "    # Vetor com os graus de liberdade restritos\n",
    "    R = np.zeros((nr,1))\n",
    "    \n",
    "    for c in range(nr):\n",
    "        no = restr.cell(c+1,0).value\n",
    "        xouy = restr.cell(c+1,1).value\n",
    "        GDL = no*2-(2-xouy) \n",
    "        R[c,0] = GDL-1\n",
    "\n",
    "\n",
    "    return nn,N,nm,Inc,nc,F,nr,R"
   ]
  },
  {
   "cell_type": "code",
   "execution_count": 4,
   "metadata": {},
   "outputs": [],
   "source": [
    "def conectividade(M,nn,nm):\n",
    "    conec = np.zeros(shape = (nn,nm))\n",
    "    for i in range(nm):\n",
    "        a = int(M[i][0])\n",
    "        b = int(M[i][1])\n",
    "        conec[a - 1][i] =  - 1\n",
    "        conec[b - 1][i] =  1\n",
    "    return conec\n",
    "\n",
    "\n",
    "def get_membros_matrix(N,conec):\n",
    "    return np.matmul(N,conec) #produto escalar "
   ]
  },
  {
   "cell_type": "markdown",
   "metadata": {},
   "source": [
    "# Lendo arquivos"
   ]
  },
  {
   "cell_type": "code",
   "execution_count": 5,
   "metadata": {},
   "outputs": [],
   "source": [
    "#reading inputs from excel\n",
    "[nn,N,nm,Inc,nc,F,nr,R] = importa('entrada-PF.xlsx')\n",
    "\n",
    "# Área\n",
    "A = Inc[0,3]\n",
    "\n",
    "# modulo elasticidade\n",
    "E = Inc[0,2]"
   ]
  },
  {
   "cell_type": "markdown",
   "metadata": {},
   "source": [
    "# Plotando arquivo entrada"
   ]
  },
  {
   "cell_type": "code",
   "execution_count": 6,
   "metadata": {},
   "outputs": [
    {
     "data": {
      "image/png": "[encoded data removed]",
      "text/plain": [
       "<Figure size 432x288 with 1 Axes>"
      ]
     },
     "metadata": {
      "needs_background": "light"
     },
     "output_type": "display_data"
    }
   ],
   "source": [
    "def plota(N,Inc):\n",
    "    # Numero de membros\n",
    "    nm = len(Inc[:,0])\n",
    "    \n",
    "    import matplotlib as mpl\n",
    "    import matplotlib.pyplot as plt\n",
    "\n",
    "#    plt.show()\n",
    "    fig = plt.figure()\n",
    "    # Passa por todos os membros\n",
    "    for i in range(nm):\n",
    "        \n",
    "        # encontra no inicial [n1] e final [n2] \n",
    "        n1 = int(Inc[i,0])\n",
    "        n2 = int(Inc[i,1])        \n",
    "\n",
    "        plt.plot([N[0,n1-1],N[0,n2-1]],[N[1,n1-1],N[1,n2-1]],color='r',linewidth=3)\n",
    "\n",
    "\n",
    "    plt.xlabel('x [m]')\n",
    "    plt.ylabel('y [m]')\n",
    "    plt.grid(True)\n",
    "    plt.axis('equal')\n",
    "    plt.show()\n",
    "    \n",
    "plota(N,Inc)"
   ]
  },
  {
   "cell_type": "code",
   "execution_count": 7,
   "metadata": {
    "scrolled": true
   },
   "outputs": [
    {
     "data": {
      "text/plain": [
       "array([[ 0., -1., -1., -1.,  0.,  0.,  0.,  0.,  0.],\n",
       "       [-1.,  0.,  0.,  1.,  0.,  0.,  0.,  0.,  0.],\n",
       "       [ 0.,  1.,  0.,  0., -1., -1., -1.,  0.,  0.],\n",
       "       [ 1.,  0.,  1.,  0.,  1.,  0.,  0., -1.,  0.],\n",
       "       [ 0.,  0.,  0.,  0.,  0.,  1.,  0.,  0., -1.],\n",
       "       [ 0.,  0.,  0.,  0.,  0.,  0.,  1.,  1.,  1.]])"
      ]
     },
     "execution_count": 7,
     "metadata": {},
     "output_type": "execute_result"
    }
   ],
   "source": [
    "M = Inc[:,0:2][:]\n",
    "\n",
    "connect_matrix = conectividade(M,nn,nm)\n",
    "connect_matrix"
   ]
  },
  {
   "cell_type": "code",
   "execution_count": 8,
   "metadata": {},
   "outputs": [],
   "source": [
    "membros_matrix = get_membros_matrix(N, connect_matrix)\n",
    "cols  = np.shape(membros_matrix)[1]"
   ]
  },
  {
   "cell_type": "markdown",
   "metadata": {},
   "source": [
    "# Lenght das arestas"
   ]
  },
  {
   "cell_type": "code",
   "execution_count": 9,
   "metadata": {},
   "outputs": [
    {
     "name": "stdout",
     "output_type": "stream",
     "text": [
      "[1.004987562112089, 1.0, 1.2806248474865698, 0.7, 0.8, 1.0, 1.4142135623730951, 1.019803902718557, 1.0]\n"
     ]
    }
   ],
   "source": [
    "#encontra os tamanhos dos elementos\n",
    "def get_lenght_arestas(N,Inc):\n",
    "    Lista_l = []\n",
    "    for i in range(nm):\n",
    "        n1 = int(Inc[i][0])\n",
    "        n2 = int(Inc[i][1])\n",
    "        x1 = N[0,n1-1]\n",
    "        y1 = N[1,n1-1]\n",
    "        x2 = N[0,n2-1] \n",
    "        y2 = N[1,n2-1]\n",
    "        l = math.sqrt((x2-x1)**2 + (y2-y1)**2)\n",
    "        Lista_l.append(l)\n",
    "    return Lista_l\n",
    "print(get_lenght_arestas(N,Inc))"
   ]
  },
  {
   "cell_type": "code",
   "execution_count": 10,
   "metadata": {},
   "outputs": [
    {
     "data": {
      "text/plain": [
       "[1.004987562112089,\n",
       " 1.0,\n",
       " 1.2806248474865698,\n",
       " 0.7,\n",
       " 0.8,\n",
       " 1.0,\n",
       " 1.4142135623730951,\n",
       " 1.019803902718557,\n",
       " 1.0]"
      ]
     },
     "execution_count": 10,
     "metadata": {},
     "output_type": "execute_result"
    }
   ],
   "source": [
    "lista_tamanhos = get_lenght_arestas(N,Inc)\n",
    "lista_tamanhos"
   ]
  },
  {
   "cell_type": "markdown",
   "metadata": {},
   "source": [
    "# Calcula angulos estrutura"
   ]
  },
  {
   "cell_type": "code",
   "execution_count": 11,
   "metadata": {},
   "outputs": [],
   "source": [
    "def get_trig_matrix(N,membros_matrix,lista_tamanhos):\n",
    "    trig_matrix = np.zeros((np.shape(membros_matrix)[1], 4))\n",
    "    for i in range((np.shape(membros_matrix)[1])):\n",
    "        #calcula cos\n",
    "        trig_matrix[i,2] = (membros_matrix[0,i])/lista_tamanhos[i]\n",
    "        trig_matrix[i,0] = -trig_matrix[i,2]\n",
    "        #calcula sen\n",
    "        trig_matrix[i,3] = (membros_matrix[1,i])/lista_tamanhos[i]\n",
    "        trig_matrix[i,1] = -trig_matrix[i,3]\n",
    "    return trig_matrix"
   ]
  },
  {
   "cell_type": "code",
   "execution_count": 12,
   "metadata": {},
   "outputs": [],
   "source": [
    "trig_matrix = get_trig_matrix(N, membros_matrix, lista_tamanhos)"
   ]
  },
  {
   "cell_type": "code",
   "execution_count": 13,
   "metadata": {},
   "outputs": [
    {
     "data": {
      "text/plain": [
       "array([[-0.09950372, -0.99503719,  0.09950372,  0.99503719],\n",
       "       [-0.        , -1.        ,  0.        ,  1.        ],\n",
       "       [-0.62469505, -0.78086881,  0.62469505,  0.78086881],\n",
       "       [-1.        , -0.        ,  1.        ,  0.        ],\n",
       "       [-1.        , -0.        ,  1.        ,  0.        ],\n",
       "       [-0.        , -1.        ,  0.        ,  1.        ],\n",
       "       [-0.70710678, -0.70710678,  0.70710678,  0.70710678],\n",
       "       [-0.19611614, -0.98058068,  0.19611614,  0.98058068],\n",
       "       [-1.        , -0.        ,  1.        ,  0.        ]])"
      ]
     },
     "execution_count": 13,
     "metadata": {},
     "output_type": "execute_result"
    }
   ],
   "source": [
    "trig_matrix"
   ]
  },
  {
   "cell_type": "code",
   "execution_count": 14,
   "metadata": {},
   "outputs": [],
   "source": [
    "def get_Ke_rigidez(connect_matrix, membros_matrix, E, A,nn, N,Inc):\n",
    "    Se       = np.zeros((2, 2))\n",
    "    k_geral  = np.zeros((nn*2,nn*2))\n",
    "    lista_ke = []\n",
    "    linhas   = np.shape(membros_matrix)[0]\n",
    "    cols  = np.shape(membros_matrix)[1] #igual a n de elementos\n",
    "    lista_l = get_lenght_arestas(N,Inc)\n",
    "    for col in range(cols):\n",
    "        me             = (membros_matrix[:,col]).reshape(linhas,1)\n",
    "        me_t           = np.transpose(me)\n",
    "        cte            = ((E*A)/lista_l[col])\n",
    "        Se             = cte*((me@me_t)/(np.linalg.norm(me))**2)\n",
    "        ce             = connect_matrix[:,col].reshape(np.shape(connect_matrix)[0],1)\n",
    "        ce_t           = np.transpose(ce)\n",
    "        k_especifico   = np.kron((ce@ce_t),Se)\n",
    "        lista_ke.append(k_especifico) \n",
    "        k_geral  += k_especifico\n",
    "    return k_geral, k_especifico\n"
   ]
  },
  {
   "cell_type": "code",
   "execution_count": 39,
   "metadata": {},
   "outputs": [
    {
     "data": {
      "text/plain": [
       "array([[ 2.57291597e+08,  5.65426164e+07, -2.12057504e+08,\n",
       "         0.00000000e+00,  0.00000000e+00,  0.00000000e+00,\n",
       "        -4.52340931e+07, -5.65426164e+07,  0.00000000e+00,\n",
       "         0.00000000e+00,  0.00000000e+00,  0.00000000e+00],\n",
       "       [ 5.65426164e+07,  2.19118523e+08,  0.00000000e+00,\n",
       "         0.00000000e+00,  0.00000000e+00, -1.48440253e+08,\n",
       "        -5.65426164e+07, -7.06782705e+07,  0.00000000e+00,\n",
       "         0.00000000e+00,  0.00000000e+00,  0.00000000e+00],\n",
       "       [-2.12057504e+08,  0.00000000e+00,  2.13519916e+08,\n",
       "         1.46241161e+07,  0.00000000e+00,  0.00000000e+00,\n",
       "        -1.46241161e+06, -1.46241161e+07,  0.00000000e+00,\n",
       "         0.00000000e+00,  0.00000000e+00,  0.00000000e+00],\n",
       "       [ 0.00000000e+00,  0.00000000e+00,  1.46241161e+07,\n",
       "         1.46241161e+08,  0.00000000e+00,  0.00000000e+00,\n",
       "        -1.46241161e+07, -1.46241161e+08,  0.00000000e+00,\n",
       "         0.00000000e+00,  0.00000000e+00,  0.00000000e+00],\n",
       "       [ 0.00000000e+00,  0.00000000e+00,  0.00000000e+00,\n",
       "         0.00000000e+00,  2.38031871e+08,  5.24815547e+07,\n",
       "        -1.85550316e+08,  0.00000000e+00,  0.00000000e+00,\n",
       "         0.00000000e+00, -5.24815547e+07, -5.24815547e+07],\n",
       "       [ 0.00000000e+00, -1.48440253e+08,  0.00000000e+00,\n",
       "         0.00000000e+00,  5.24815547e+07,  3.49362060e+08,\n",
       "         0.00000000e+00,  0.00000000e+00,  0.00000000e+00,\n",
       "        -1.48440253e+08, -5.24815547e+07, -5.24815547e+07],\n",
       "       [-4.52340931e+07, -5.65426164e+07, -1.46241161e+06,\n",
       "        -1.46241161e+07, -1.85550316e+08,  0.00000000e+00,\n",
       "         2.37845192e+08,  9.91585869e+07,  0.00000000e+00,\n",
       "         0.00000000e+00, -5.59837090e+06, -2.79918545e+07],\n",
       "       [-5.65426164e+07, -7.06782705e+07, -1.46241161e+07,\n",
       "        -1.46241161e+08,  0.00000000e+00,  0.00000000e+00,\n",
       "         9.91585869e+07,  3.56878704e+08,  0.00000000e+00,\n",
       "         0.00000000e+00, -2.79918545e+07, -1.39959273e+08],\n",
       "       [ 0.00000000e+00,  0.00000000e+00,  0.00000000e+00,\n",
       "         0.00000000e+00,  0.00000000e+00,  0.00000000e+00,\n",
       "         0.00000000e+00,  0.00000000e+00,  1.48440253e+08,\n",
       "         0.00000000e+00, -1.48440253e+08,  0.00000000e+00],\n",
       "       [ 0.00000000e+00,  0.00000000e+00,  0.00000000e+00,\n",
       "         0.00000000e+00,  0.00000000e+00, -1.48440253e+08,\n",
       "         0.00000000e+00,  0.00000000e+00,  0.00000000e+00,\n",
       "         1.48440253e+08,  0.00000000e+00,  0.00000000e+00],\n",
       "       [ 0.00000000e+00,  0.00000000e+00,  0.00000000e+00,\n",
       "         0.00000000e+00, -5.24815547e+07, -5.24815547e+07,\n",
       "        -5.59837090e+06, -2.79918545e+07, -1.48440253e+08,\n",
       "         0.00000000e+00,  2.06520178e+08,  8.04734092e+07],\n",
       "       [ 0.00000000e+00,  0.00000000e+00,  0.00000000e+00,\n",
       "         0.00000000e+00, -5.24815547e+07, -5.24815547e+07,\n",
       "        -2.79918545e+07, -1.39959273e+08,  0.00000000e+00,\n",
       "         0.00000000e+00,  8.04734092e+07,  1.92440827e+08]])"
      ]
     },
     "execution_count": 39,
     "metadata": {},
     "output_type": "execute_result"
    }
   ],
   "source": [
    "#get rigidez geral e específica\n",
    "k_geral, k_especifico = get_Ke_rigidez(connect_matrix,membros_matrix,E,A,nn,N,Inc)\n",
    "k_geral"
   ]
  },
  {
   "cell_type": "code",
   "execution_count": 16,
   "metadata": {},
   "outputs": [
    {
     "data": {
      "text/plain": [
       "array([[0.],\n",
       "       [1.],\n",
       "       [2.],\n",
       "       [3.]])"
      ]
     },
     "execution_count": 16,
     "metadata": {},
     "output_type": "execute_result"
    }
   ],
   "source": [
    "R[:,0]\n",
    "R"
   ]
  },
  {
   "cell_type": "markdown",
   "metadata": {},
   "source": [
    "### Matrix rigidez geral com condições de contorno"
   ]
  },
  {
   "cell_type": "code",
   "execution_count": 17,
   "metadata": {},
   "outputs": [],
   "source": [
    "def get_matrix_with_contorn_conditions(k_geral,R):\n",
    "    #encontrando os indices que tem restrições\n",
    "    lista_restricao = list(R[:,0].astype(int))\n",
    "    #nesse caso será os indices 0,2,3 pois são as restrições 1,3 e 4 onde na restrição 1 é um rolete e a 3 e 4 um pino.\n",
    "    \n",
    "    if np.shape(k_geral)[1] == 1:\n",
    "        k_geral_with_cc = np.delete(k_geral, lista_restricao,axis=0)\n",
    "        return k_geral_with_cc\n",
    "    \n",
    "    k_geral_with_cc = np.delete(np.delete(k_geral, lista_restricao,axis=0), lista_restricao ,axis=1)\n",
    "    return k_geral_with_cc\n"
   ]
  },
  {
   "cell_type": "code",
   "execution_count": 40,
   "metadata": {},
   "outputs": [
    {
     "data": {
      "text/plain": [
       "array([[ 2.38031871e+08,  5.24815547e+07, -1.85550316e+08,\n",
       "         0.00000000e+00,  0.00000000e+00,  0.00000000e+00,\n",
       "        -5.24815547e+07, -5.24815547e+07],\n",
       "       [ 5.24815547e+07,  3.49362060e+08,  0.00000000e+00,\n",
       "         0.00000000e+00,  0.00000000e+00, -1.48440253e+08,\n",
       "        -5.24815547e+07, -5.24815547e+07],\n",
       "       [-1.85550316e+08,  0.00000000e+00,  2.37845192e+08,\n",
       "         9.91585869e+07,  0.00000000e+00,  0.00000000e+00,\n",
       "        -5.59837090e+06, -2.79918545e+07],\n",
       "       [ 0.00000000e+00,  0.00000000e+00,  9.91585869e+07,\n",
       "         3.56878704e+08,  0.00000000e+00,  0.00000000e+00,\n",
       "        -2.79918545e+07, -1.39959273e+08],\n",
       "       [ 0.00000000e+00,  0.00000000e+00,  0.00000000e+00,\n",
       "         0.00000000e+00,  1.48440253e+08,  0.00000000e+00,\n",
       "        -1.48440253e+08,  0.00000000e+00],\n",
       "       [ 0.00000000e+00, -1.48440253e+08,  0.00000000e+00,\n",
       "         0.00000000e+00,  0.00000000e+00,  1.48440253e+08,\n",
       "         0.00000000e+00,  0.00000000e+00],\n",
       "       [-5.24815547e+07, -5.24815547e+07, -5.59837090e+06,\n",
       "        -2.79918545e+07, -1.48440253e+08,  0.00000000e+00,\n",
       "         2.06520178e+08,  8.04734092e+07],\n",
       "       [-5.24815547e+07, -5.24815547e+07, -2.79918545e+07,\n",
       "        -1.39959273e+08,  0.00000000e+00,  0.00000000e+00,\n",
       "         8.04734092e+07,  1.92440827e+08]])"
      ]
     },
     "execution_count": 40,
     "metadata": {},
     "output_type": "execute_result"
    }
   ],
   "source": [
    "# Matriz de rigidez global com condicoes de contorno aplicadas\n",
    "k_geral_with_cc = get_matrix_with_contorn_conditions(k_geral,R)\n",
    "k_geral_with_cc"
   ]
  },
  {
   "cell_type": "code",
   "execution_count": 19,
   "metadata": {},
   "outputs": [],
   "source": [
    "vetor_forcas_with_cc = get_matrix_with_contorn_conditions(F,R)"
   ]
  },
  {
   "cell_type": "code",
   "execution_count": 20,
   "metadata": {},
   "outputs": [
    {
     "data": {
      "text/plain": [
       "array([[0.],\n",
       "       [0.],\n",
       "       [0.],\n",
       "       [0.],\n",
       "       [0.],\n",
       "       [0.],\n",
       "       [0.],\n",
       "       [1.]])"
      ]
     },
     "execution_count": 20,
     "metadata": {},
     "output_type": "execute_result"
    }
   ],
   "source": [
    "vetor_forcas_with_cc"
   ]
  },
  {
   "cell_type": "code",
   "execution_count": 21,
   "metadata": {},
   "outputs": [],
   "source": [
    "line, row = np.shape(vetor_forcas_with_cc)"
   ]
  },
  {
   "cell_type": "code",
   "execution_count": 22,
   "metadata": {},
   "outputs": [
    {
     "data": {
      "text/plain": [
       "(8, 1)"
      ]
     },
     "execution_count": 22,
     "metadata": {},
     "output_type": "execute_result"
    }
   ],
   "source": [
    "line,row"
   ]
  },
  {
   "cell_type": "markdown",
   "metadata": {},
   "source": [
    "# Gauss-Seidel"
   ]
  },
  {
   "cell_type": "code",
   "execution_count": 23,
   "metadata": {},
   "outputs": [],
   "source": [
    "def gauss_seidel(vec1, vector_f, limit_iter=100, tolerance=1e-6):\n",
    "  \n",
    "    x = np.zeros((len(vec1), 1))\n",
    "    D = np.diag(vec1)\n",
    "    R = vec1 - np.diagflat(D)\n",
    "\n",
    "    x_copy = x.copy()\n",
    "\n",
    "    for n_iter in range(limit_iter):\n",
    "        for j in range(vec1.shape[0]):\n",
    "            x[j, 0] = np.divide((vector_f[j, 0] - np.sum(R[j, :]@x)), D[j])\n",
    "\n",
    "        if (n_iter > 0):\n",
    "            diff = vector_f - vec1@x\n",
    "            dif_abs = np.abs(np.divide(diff, vector_f, where=vector_f!=0))\n",
    "            rel_diff = np.max(dif_abs)\n",
    "\n",
    "            if rel_diff <= tolerance:\n",
    "                print(f\"Num iterações: {n_iter} | Erro: {rel_diff}\")\n",
    "                return x\n",
    "\n",
    "        x_copy = x.copy()\n",
    "    print(f\"Maximo de iterações: {n_iter} alcançado, com erro: {rel_diff}\")\n",
    "    return x\n",
    "\n"
   ]
  },
  {
   "cell_type": "code",
   "execution_count": 24,
   "metadata": {},
   "outputs": [
    {
     "name": "stdout",
     "output_type": "stream",
     "text": [
      "Maximo de iterações: 99 alcançado, com erro: 0.014831130430967098\n"
     ]
    }
   ],
   "source": [
    "jac_matrix = gauss_seidel(k_geral_with_cc,vetor_forcas_with_cc, 100, 1e-6)"
   ]
  },
  {
   "cell_type": "code",
   "execution_count": 25,
   "metadata": {},
   "outputs": [
    {
     "data": {
      "text/plain": [
       "array([[-1.71371157e-08],\n",
       "       [-1.51309254e-09],\n",
       "       [-1.59657044e-08],\n",
       "       [ 1.08941429e-08],\n",
       "       [-4.92631874e-08],\n",
       "       [-1.51309254e-09],\n",
       "       [-4.93604137e-08],\n",
       "       [ 2.63521808e-08]])"
      ]
     },
     "execution_count": 25,
     "metadata": {},
     "output_type": "execute_result"
    }
   ],
   "source": [
    "jac_matrix"
   ]
  },
  {
   "cell_type": "code",
   "execution_count": null,
   "metadata": {},
   "outputs": [],
   "source": []
  },
  {
   "cell_type": "markdown",
   "metadata": {},
   "source": [
    "## Calculando matriz de deslocamento full"
   ]
  },
  {
   "cell_type": "code",
   "execution_count": 26,
   "metadata": {},
   "outputs": [],
   "source": [
    "def get_deslocamento_matrix(jac_matrix,R):\n",
    "    matrix_desloc_completa = np.zeros((len(R)+len(jac_matrix),1))\n",
    "    k = 0\n",
    "    r = list(R[:,0].astype(int))\n",
    "    for i in range(len(matrix_desloc_completa)):\n",
    "        if i not in r:\n",
    "            matrix_desloc_completa[i] = jac_matrix[k]\n",
    "            k+=1\n",
    "    return matrix_desloc_completa"
   ]
  },
  {
   "cell_type": "code",
   "execution_count": 27,
   "metadata": {},
   "outputs": [
    {
     "name": "stdout",
     "output_type": "stream",
     "text": [
      "[[ 0.00000000e+00]\n",
      " [ 0.00000000e+00]\n",
      " [ 0.00000000e+00]\n",
      " [ 0.00000000e+00]\n",
      " [-1.71371157e-08]\n",
      " [-1.51309254e-09]\n",
      " [-1.59657044e-08]\n",
      " [ 1.08941429e-08]\n",
      " [-4.92631874e-08]\n",
      " [-1.51309254e-09]\n",
      " [-4.93604137e-08]\n",
      " [ 2.63521808e-08]]\n"
     ]
    }
   ],
   "source": [
    "matrix_desloc_completa = get_deslocamento_matrix(jac_matrix,R)\n",
    "print(matrix_desloc_completa)"
   ]
  },
  {
   "cell_type": "markdown",
   "metadata": {},
   "source": [
    "## Get deformation"
   ]
  },
  {
   "cell_type": "code",
   "execution_count": 28,
   "metadata": {},
   "outputs": [],
   "source": [
    "# def get_deformation(jac_matrix,lista_tamanhos,R,trig_matrix):\n",
    "\n",
    "def get_deformation(Inc,matrix_desloc_completa,lista_tamanhos,R,trig_matrix):\n",
    "    lista_deformacoes = np.zeros((len(lista_tamanhos), 1))\n",
    "    for i in range(len(lista_tamanhos)):\n",
    "        indices = [(int(Inc[i, 0])-1)*2, (int(Inc[i, 0])-1)*2 +1,(int(Inc[i, 1])-1)*2, int(Inc[i, 1]-1)*2 +1]\n",
    "        print(indices)\n",
    "        deformacao = (1/lista_tamanhos[i])*(trig_matrix[i]@matrix_desloc_completa[indices] )\n",
    "        lista_deformacoes[i] = deformacao[0]\n",
    "    return lista_deformacoes\n",
    "\n",
    "def calcula_r_apoio(k_geral, matrix_desloc_completa,R):\n",
    "    R = list(R[:,0].astype(int))\n",
    "    reacoes_apoio = ((k_geral@matrix_desloc_completa)[R])\n",
    "    return reacoes_apoio\n"
   ]
  },
  {
   "cell_type": "code",
   "execution_count": 29,
   "metadata": {},
   "outputs": [
    {
     "name": "stdout",
     "output_type": "stream",
     "text": [
      "[2, 3, 6, 7]\n",
      "[0, 1, 4, 5]\n",
      "[0, 1, 6, 7]\n",
      "[0, 1, 2, 3]\n",
      "[4, 5, 6, 7]\n",
      "[4, 5, 8, 9]\n",
      "[4, 5, 10, 11]\n",
      "[6, 7, 10, 11]\n",
      "[8, 9, 10, 11]\n"
     ]
    }
   ],
   "source": [
    "deformacoes = get_deformation(Inc, matrix_desloc_completa,lista_tamanhos,R,trig_matrix)\n"
   ]
  },
  {
   "cell_type": "code",
   "execution_count": 30,
   "metadata": {},
   "outputs": [
    {
     "data": {
      "text/plain": [
       "array([[ 9.20551726e-09],\n",
       "       [-1.51309254e-09],\n",
       "       [-1.14537846e-09],\n",
       "       [ 0.00000000e+00],\n",
       "       [ 1.46426411e-09],\n",
       "       [ 0.00000000e+00],\n",
       "       [-2.17901229e-09],\n",
       "       [ 8.44143857e-09],\n",
       "       [-9.72262760e-11]])"
      ]
     },
     "execution_count": 30,
     "metadata": {},
     "output_type": "execute_result"
    }
   ],
   "source": [
    "deformacoes"
   ]
  },
  {
   "cell_type": "markdown",
   "metadata": {},
   "source": [
    "## Tensoes"
   ]
  },
  {
   "cell_type": "code",
   "execution_count": 31,
   "metadata": {},
   "outputs": [
    {
     "data": {
      "text/plain": [
       "array([[1933.15862371],\n",
       "       [-317.74943305],\n",
       "       [-240.52947594],\n",
       "       [   0.        ],\n",
       "       [ 307.49546374],\n",
       "       [   0.        ],\n",
       "       [-457.59258098],\n",
       "       [1772.70209926],\n",
       "       [ -20.41751795]])"
      ]
     },
     "execution_count": 31,
     "metadata": {},
     "output_type": "execute_result"
    }
   ],
   "source": [
    "tensoes = E*deformacoes\n",
    "tensoes"
   ]
  },
  {
   "cell_type": "markdown",
   "metadata": {},
   "source": [
    "## Reações"
   ]
  },
  {
   "cell_type": "code",
   "execution_count": 32,
   "metadata": {},
   "outputs": [],
   "source": [
    "R_array = list(R[:,0].astype(int))"
   ]
  },
  {
   "cell_type": "code",
   "execution_count": 33,
   "metadata": {},
   "outputs": [
    {
     "data": {
      "text/plain": [
       "array([[ 0.10621082],\n",
       "       [ 0.35736736],\n",
       "       [-0.13596878],\n",
       "       [-1.35968778]])"
      ]
     },
     "execution_count": 33,
     "metadata": {},
     "output_type": "execute_result"
    }
   ],
   "source": [
    "reacao_apoio = (k_geral@matrix_desloc_completa)[R_array]\n",
    "reacao_apoio"
   ]
  },
  {
   "cell_type": "code",
   "execution_count": 34,
   "metadata": {},
   "outputs": [
    {
     "data": {
      "text/plain": [
       "array([[ 0.00000000e+00],\n",
       "       [ 0.00000000e+00],\n",
       "       [ 0.00000000e+00],\n",
       "       [ 0.00000000e+00],\n",
       "       [-1.71371157e-08],\n",
       "       [-1.51309254e-09],\n",
       "       [-1.59657044e-08],\n",
       "       [ 1.08941429e-08],\n",
       "       [-4.92631874e-08],\n",
       "       [-1.51309254e-09],\n",
       "       [-4.93604137e-08],\n",
       "       [ 2.63521808e-08]])"
      ]
     },
     "execution_count": 34,
     "metadata": {},
     "output_type": "execute_result"
    }
   ],
   "source": [
    "matrix_desloc_completa"
   ]
  },
  {
   "cell_type": "code",
   "execution_count": 35,
   "metadata": {},
   "outputs": [
    {
     "data": {
      "text/plain": [
       "array([[ 1.06210819e-01],\n",
       "       [ 3.57367363e-01],\n",
       "       [-1.35968778e-01],\n",
       "       [-1.35968778e+00],\n",
       "       [ 1.13601702e-02],\n",
       "       [ 4.11206643e-03],\n",
       "       [ 1.37051308e-03],\n",
       "       [-1.79164745e-03],\n",
       "       [ 1.44322930e-02],\n",
       "       [ 6.02983936e-18],\n",
       "       [ 2.59498265e-03],\n",
       "       [ 1.00000000e+00]])"
      ]
     },
     "execution_count": 35,
     "metadata": {},
     "output_type": "execute_result"
    }
   ],
   "source": [
    "k_geral@matrix_desloc_completa"
   ]
  },
  {
   "cell_type": "code",
   "execution_count": 36,
   "metadata": {},
   "outputs": [
    {
     "data": {
      "text/plain": [
       "array([[ 2.38031871e+08,  5.24815547e+07, -1.85550316e+08,\n",
       "         0.00000000e+00,  0.00000000e+00,  0.00000000e+00,\n",
       "        -5.24815547e+07, -5.24815547e+07],\n",
       "       [ 5.24815547e+07,  3.49362060e+08,  0.00000000e+00,\n",
       "         0.00000000e+00,  0.00000000e+00, -1.48440253e+08,\n",
       "        -5.24815547e+07, -5.24815547e+07],\n",
       "       [-1.85550316e+08,  0.00000000e+00,  2.37845192e+08,\n",
       "         9.91585869e+07,  0.00000000e+00,  0.00000000e+00,\n",
       "        -5.59837090e+06, -2.79918545e+07],\n",
       "       [ 0.00000000e+00,  0.00000000e+00,  9.91585869e+07,\n",
       "         3.56878704e+08,  0.00000000e+00,  0.00000000e+00,\n",
       "        -2.79918545e+07, -1.39959273e+08],\n",
       "       [ 0.00000000e+00,  0.00000000e+00,  0.00000000e+00,\n",
       "         0.00000000e+00,  1.48440253e+08,  0.00000000e+00,\n",
       "        -1.48440253e+08,  0.00000000e+00],\n",
       "       [ 0.00000000e+00, -1.48440253e+08,  0.00000000e+00,\n",
       "         0.00000000e+00,  0.00000000e+00,  1.48440253e+08,\n",
       "         0.00000000e+00,  0.00000000e+00],\n",
       "       [-5.24815547e+07, -5.24815547e+07, -5.59837090e+06,\n",
       "        -2.79918545e+07, -1.48440253e+08,  0.00000000e+00,\n",
       "         2.06520178e+08,  8.04734092e+07],\n",
       "       [-5.24815547e+07, -5.24815547e+07, -2.79918545e+07,\n",
       "        -1.39959273e+08,  0.00000000e+00,  0.00000000e+00,\n",
       "         8.04734092e+07,  1.92440827e+08]])"
      ]
     },
     "execution_count": 36,
     "metadata": {},
     "output_type": "execute_result"
    }
   ],
   "source": [
    "k_geral_with_cc"
   ]
  },
  {
   "cell_type": "code",
   "execution_count": 37,
   "metadata": {},
   "outputs": [
    {
     "data": {
      "text/plain": [
       "array([[ 0.00000000e+00],\n",
       "       [ 0.00000000e+00],\n",
       "       [ 0.00000000e+00],\n",
       "       [ 0.00000000e+00],\n",
       "       [-1.71371157e-08],\n",
       "       [-1.51309254e-09],\n",
       "       [-1.59657044e-08],\n",
       "       [ 1.08941429e-08],\n",
       "       [-4.92631874e-08],\n",
       "       [-1.51309254e-09],\n",
       "       [-4.93604137e-08],\n",
       "       [ 2.63521808e-08]])"
      ]
     },
     "execution_count": 37,
     "metadata": {},
     "output_type": "execute_result"
    }
   ],
   "source": [
    "matrix_desloc_completa"
   ]
  }
 ],
 "metadata": {
  "kernelspec": {
   "display_name": "Python 3",
   "language": "python",
   "name": "python3"
  },
  "language_info": {
   "codemirror_mode": {
    "name": "ipython",
    "version": 3
   },
   "file_extension": ".py",
   "mimetype": "text/x-python",
   "name": "python",
   "nbconvert_exporter": "python",
   "pygments_lexer": "ipython3",
   "version": "3.8.5"
  }
 },
 "nbformat": 4,
 "nbformat_minor": 5
}
