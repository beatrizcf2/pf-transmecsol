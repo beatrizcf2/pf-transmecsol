{
 "cells": [
  {
   "cell_type": "markdown",
   "metadata": {},
   "source": [
    "# SIMULADOR DE ESTRUTURAS COM TRELIÇAS PLANAS"
   ]
  },
  {
   "cell_type": "markdown",
   "metadata": {},
   "source": [
    "## Introdução "
   ]
  },
  {
   "cell_type": "markdown",
   "metadata": {},
   "source": [
    "## Estrutura do Código "
   ]
  },
  {
   "cell_type": "markdown",
   "metadata": {},
   "source": [
    "#### Imports das funções importantes"
   ]
  },
  {
   "cell_type": "code",
   "execution_count": 13,
   "metadata": {},
   "outputs": [],
   "source": [
    "# Imports das Funções\n",
    "from funcoesTermosol import *\n",
    "from funcoes_PF import *\n",
    "import pandas as pd"
   ]
  },
  {
   "cell_type": "markdown",
   "metadata": {},
   "source": [
    "#### Importando dados do arquivo de entrada "
   ]
  },
  {
   "cell_type": "code",
   "execution_count": 14,
   "metadata": {},
   "outputs": [
    {
     "name": "stdout",
     "output_type": "stream",
     "text": [
      "O módulo de elasticidade das treliças é: 210000000000.0 kPa. A área de seção trnavesal dessas treliças é 0.0007068583470577034 m2\n"
     ]
    }
   ],
   "source": [
    "#importando os dados\n",
    "[nn,N,nm,Inc,nc,F,nr,R] = importa('entrada-PF.xlsx')\n",
    "\n",
    "#Modulo de elasticidade\n",
    "E = Inc[0,2]\n",
    "\n",
    "#Area secao transversal\n",
    "A = Inc[0,3]\n",
    "\n",
    "print(f\"\"\"O módulo de elasticidade das treliças é: {E} kPa. A área de seção trnavesal dessas treliças é {A} m2\"\"\")"
   ]
  },
  {
   "cell_type": "code",
   "execution_count": 15,
   "metadata": {},
   "outputs": [
    {
     "data": {
      "text/plain": [
       "array([[0.],\n",
       "       [0.],\n",
       "       [0.],\n",
       "       [0.],\n",
       "       [0.],\n",
       "       [0.],\n",
       "       [0.],\n",
       "       [0.],\n",
       "       [0.],\n",
       "       [0.],\n",
       "       [0.],\n",
       "       [1.]])"
      ]
     },
     "execution_count": 15,
     "metadata": {},
     "output_type": "execute_result"
    }
   ],
   "source": [
    "F"
   ]
  },
  {
   "cell_type": "code",
   "execution_count": 16,
   "metadata": {},
   "outputs": [
    {
     "data": {
      "image/png": "[encoded data removed]",
      "text/plain": [
       "<Figure size 432x288 with 1 Axes>"
      ]
     },
     "metadata": {
      "needs_background": "light"
     },
     "output_type": "display_data"
    }
   ],
   "source": [
    "plota(N,Inc)"
   ]
  },
  {
   "cell_type": "markdown",
   "metadata": {},
   "source": [
    "#### Criando matriz de conectividade"
   ]
  },
  {
   "cell_type": "code",
   "execution_count": 17,
   "metadata": {},
   "outputs": [
    {
     "data": {
      "text/plain": [
       "array([[ 0., -1., -1., -1.,  0.,  0.,  0.,  0.,  0.],\n",
       "       [-1.,  0.,  0.,  1.,  0.,  0.,  0.,  0.,  0.],\n",
       "       [ 0.,  1.,  0.,  0., -1., -1., -1.,  0.,  0.],\n",
       "       [ 1.,  0.,  1.,  0.,  1.,  0.,  0., -1.,  0.],\n",
       "       [ 0.,  0.,  0.,  0.,  0.,  1.,  0.,  0., -1.],\n",
       "       [ 0.,  0.,  0.,  0.,  0.,  0.,  1.,  1.,  1.]])"
      ]
     },
     "execution_count": 17,
     "metadata": {},
     "output_type": "execute_result"
    }
   ],
   "source": [
    "# Calculando matriz de conectividade\n",
    "C = conectividade(Inc, nn, nm)\n",
    "C"
   ]
  },
  {
   "cell_type": "markdown",
   "metadata": {},
   "source": [
    "#### Calculando a Matriz dos Membros "
   ]
  },
  {
   "cell_type": "code",
   "execution_count": 18,
   "metadata": {},
   "outputs": [
    {
     "data": {
      "text/plain": [
       "array([[0.1, 0. , 0.8, 0.7, 0.8, 0. , 1. , 0.2, 1. ],\n",
       "       [1. , 1. , 1. , 0. , 0. , 1. , 1. , 1. , 0. ]])"
      ]
     },
     "execution_count": 18,
     "metadata": {},
     "output_type": "execute_result"
    }
   ],
   "source": [
    "# Calcula matriz dos membros\n",
    "M = membros(N,C)\n",
    "M"
   ]
  },
  {
   "cell_type": "markdown",
   "metadata": {},
   "source": [
    "#### Calculando a Matriz de comprimento para cada elemento"
   ]
  },
  {
   "cell_type": "code",
   "execution_count": 19,
   "metadata": {},
   "outputs": [
    {
     "data": {
      "text/plain": [
       "array([[1.00498756],\n",
       "       [1.        ],\n",
       "       [1.28062485],\n",
       "       [0.7       ],\n",
       "       [0.8       ],\n",
       "       [1.        ],\n",
       "       [1.41421356],\n",
       "       [1.0198039 ],\n",
       "       [1.        ]])"
      ]
     },
     "execution_count": 19,
     "metadata": {},
     "output_type": "execute_result"
    }
   ],
   "source": [
    "# Calcula o comprimento de cada elemento\n",
    "l = calcula_l(M)\n",
    "l"
   ]
  },
  {
   "cell_type": "markdown",
   "metadata": {},
   "source": [
    "#### Calculando a Matriz trigonométrica"
   ]
  },
  {
   "cell_type": "code",
   "execution_count": 20,
   "metadata": {},
   "outputs": [
    {
     "data": {
      "text/plain": [
       "array([[-0.09950372, -0.99503719,  0.09950372,  0.99503719],\n",
       "       [-0.        , -1.        ,  0.        ,  1.        ],\n",
       "       [-0.62469505, -0.78086881,  0.62469505,  0.78086881],\n",
       "       [-1.        , -0.        ,  1.        ,  0.        ],\n",
       "       [-1.        , -0.        ,  1.        ,  0.        ],\n",
       "       [-0.        , -1.        ,  0.        ,  1.        ],\n",
       "       [-0.70710678, -0.70710678,  0.70710678,  0.70710678],\n",
       "       [-0.19611614, -0.98058068,  0.19611614,  0.98058068],\n",
       "       [-1.        , -0.        ,  1.        ,  0.        ]])"
      ]
     },
     "execution_count": 20,
     "metadata": {},
     "output_type": "execute_result"
    }
   ],
   "source": [
    "# Calcula matriz dos senos e cossenos\n",
    "trig = calcula_trig(N,M,l)\n",
    "trig"
   ]
  },
  {
   "cell_type": "markdown",
   "metadata": {},
   "source": [
    "#### Calculando Matriz de Rigidez Sem condições de Contorno"
   ]
  },
  {
   "cell_type": "code",
   "execution_count": 21,
   "metadata": {},
   "outputs": [
    {
     "data": {
      "text/plain": [
       "array([[ 2.57291597e+08,  5.65426164e+07, -2.12057504e+08,\n",
       "         0.00000000e+00,  0.00000000e+00,  0.00000000e+00,\n",
       "        -4.52340931e+07, -5.65426164e+07,  0.00000000e+00,\n",
       "         0.00000000e+00,  0.00000000e+00,  0.00000000e+00],\n",
       "       [ 5.65426164e+07,  2.19118523e+08,  0.00000000e+00,\n",
       "         0.00000000e+00,  0.00000000e+00, -1.48440253e+08,\n",
       "        -5.65426164e+07, -7.06782705e+07,  0.00000000e+00,\n",
       "         0.00000000e+00,  0.00000000e+00,  0.00000000e+00],\n",
       "       [-2.12057504e+08,  0.00000000e+00,  2.13519916e+08,\n",
       "         1.46241161e+07,  0.00000000e+00,  0.00000000e+00,\n",
       "        -1.46241161e+06, -1.46241161e+07,  0.00000000e+00,\n",
       "         0.00000000e+00,  0.00000000e+00,  0.00000000e+00],\n",
       "       [ 0.00000000e+00,  0.00000000e+00,  1.46241161e+07,\n",
       "         1.46241161e+08,  0.00000000e+00,  0.00000000e+00,\n",
       "        -1.46241161e+07, -1.46241161e+08,  0.00000000e+00,\n",
       "         0.00000000e+00,  0.00000000e+00,  0.00000000e+00],\n",
       "       [ 0.00000000e+00,  0.00000000e+00,  0.00000000e+00,\n",
       "         0.00000000e+00,  2.38031871e+08,  5.24815547e+07,\n",
       "        -1.85550316e+08,  0.00000000e+00,  0.00000000e+00,\n",
       "         0.00000000e+00, -5.24815547e+07, -5.24815547e+07],\n",
       "       [ 0.00000000e+00, -1.48440253e+08,  0.00000000e+00,\n",
       "         0.00000000e+00,  5.24815547e+07,  3.49362060e+08,\n",
       "         0.00000000e+00,  0.00000000e+00,  0.00000000e+00,\n",
       "        -1.48440253e+08, -5.24815547e+07, -5.24815547e+07],\n",
       "       [-4.52340931e+07, -5.65426164e+07, -1.46241161e+06,\n",
       "        -1.46241161e+07, -1.85550316e+08,  0.00000000e+00,\n",
       "         2.37845192e+08,  9.91585869e+07,  0.00000000e+00,\n",
       "         0.00000000e+00, -5.59837090e+06, -2.79918545e+07],\n",
       "       [-5.65426164e+07, -7.06782705e+07, -1.46241161e+07,\n",
       "        -1.46241161e+08,  0.00000000e+00,  0.00000000e+00,\n",
       "         9.91585869e+07,  3.56878704e+08,  0.00000000e+00,\n",
       "         0.00000000e+00, -2.79918545e+07, -1.39959273e+08],\n",
       "       [ 0.00000000e+00,  0.00000000e+00,  0.00000000e+00,\n",
       "         0.00000000e+00,  0.00000000e+00,  0.00000000e+00,\n",
       "         0.00000000e+00,  0.00000000e+00,  1.48440253e+08,\n",
       "         0.00000000e+00, -1.48440253e+08,  0.00000000e+00],\n",
       "       [ 0.00000000e+00,  0.00000000e+00,  0.00000000e+00,\n",
       "         0.00000000e+00,  0.00000000e+00, -1.48440253e+08,\n",
       "         0.00000000e+00,  0.00000000e+00,  0.00000000e+00,\n",
       "         1.48440253e+08,  0.00000000e+00,  0.00000000e+00],\n",
       "       [ 0.00000000e+00,  0.00000000e+00,  0.00000000e+00,\n",
       "         0.00000000e+00, -5.24815547e+07, -5.24815547e+07,\n",
       "        -5.59837090e+06, -2.79918545e+07, -1.48440253e+08,\n",
       "         0.00000000e+00,  2.06520178e+08,  8.04734092e+07],\n",
       "       [ 0.00000000e+00,  0.00000000e+00,  0.00000000e+00,\n",
       "         0.00000000e+00, -5.24815547e+07, -5.24815547e+07,\n",
       "        -2.79918545e+07, -1.39959273e+08,  0.00000000e+00,\n",
       "         0.00000000e+00,  8.04734092e+07,  1.92440827e+08]])"
      ]
     },
     "execution_count": 21,
     "metadata": {},
     "output_type": "execute_result"
    }
   ],
   "source": [
    "#Calcula matriz de rigidez global e de cada elemento\n",
    "Kg,Ke = calcula_Ke(C,M,E,A,nn)\n",
    "Kg"
   ]
  },
  {
   "cell_type": "markdown",
   "metadata": {},
   "source": [
    "#### Criando Matriz de Rigidez com as Condições de Contorno Aplicadas "
   ]
  },
  {
   "cell_type": "code",
   "execution_count": 22,
   "metadata": {},
   "outputs": [
    {
     "data": {
      "text/plain": [
       "array([[ 2.38031871e+08,  5.24815547e+07, -1.85550316e+08,\n",
       "         0.00000000e+00,  0.00000000e+00,  0.00000000e+00,\n",
       "        -5.24815547e+07, -5.24815547e+07],\n",
       "       [ 5.24815547e+07,  3.49362060e+08,  0.00000000e+00,\n",
       "         0.00000000e+00,  0.00000000e+00, -1.48440253e+08,\n",
       "        -5.24815547e+07, -5.24815547e+07],\n",
       "       [-1.85550316e+08,  0.00000000e+00,  2.37845192e+08,\n",
       "         9.91585869e+07,  0.00000000e+00,  0.00000000e+00,\n",
       "        -5.59837090e+06, -2.79918545e+07],\n",
       "       [ 0.00000000e+00,  0.00000000e+00,  9.91585869e+07,\n",
       "         3.56878704e+08,  0.00000000e+00,  0.00000000e+00,\n",
       "        -2.79918545e+07, -1.39959273e+08],\n",
       "       [ 0.00000000e+00,  0.00000000e+00,  0.00000000e+00,\n",
       "         0.00000000e+00,  1.48440253e+08,  0.00000000e+00,\n",
       "        -1.48440253e+08,  0.00000000e+00],\n",
       "       [ 0.00000000e+00, -1.48440253e+08,  0.00000000e+00,\n",
       "         0.00000000e+00,  0.00000000e+00,  1.48440253e+08,\n",
       "         0.00000000e+00,  0.00000000e+00],\n",
       "       [-5.24815547e+07, -5.24815547e+07, -5.59837090e+06,\n",
       "        -2.79918545e+07, -1.48440253e+08,  0.00000000e+00,\n",
       "         2.06520178e+08,  8.04734092e+07],\n",
       "       [-5.24815547e+07, -5.24815547e+07, -2.79918545e+07,\n",
       "        -1.39959273e+08,  0.00000000e+00,  0.00000000e+00,\n",
       "         8.04734092e+07,  1.92440827e+08]])"
      ]
     },
     "execution_count": 22,
     "metadata": {},
     "output_type": "execute_result"
    }
   ],
   "source": [
    "# Matriz de rigidez global com condicoes de contorno aplicadas\n",
    "Kg_cc = aplica_cc(Kg,R)\n",
    "Kg_cc"
   ]
  },
  {
   "cell_type": "markdown",
   "metadata": {},
   "source": [
    "#### Criando Vetor de Forças com as Confições de Contorno Aplicadas "
   ]
  },
  {
   "cell_type": "code",
   "execution_count": 23,
   "metadata": {},
   "outputs": [
    {
     "data": {
      "text/plain": [
       "array([[0.],\n",
       "       [0.],\n",
       "       [0.],\n",
       "       [0.],\n",
       "       [0.],\n",
       "       [0.],\n",
       "       [0.],\n",
       "       [1.]])"
      ]
     },
     "execution_count": 23,
     "metadata": {},
     "output_type": "execute_result"
    }
   ],
   "source": [
    "# Vetor de Forcas com condicoes de contorno\n",
    "F_cc = aplica_cc(F,R)\n",
    "F_cc"
   ]
  },
  {
   "cell_type": "markdown",
   "metadata": {},
   "source": [
    "#### Calculando os Deslocamentos Pelo Método de Jacobi "
   ]
  },
  {
   "cell_type": "code",
   "execution_count": 24,
   "metadata": {},
   "outputs": [
    {
     "name": "stdout",
     "output_type": "stream",
     "text": [
      "Maximo de iterações: 99 alcançado, com erro: 0.014831130430967098\n"
     ]
    },
    {
     "data": {
      "text/plain": [
       "array([[-1.71371157e-08],\n",
       "       [-1.51309254e-09],\n",
       "       [-1.59657044e-08],\n",
       "       [ 1.08941429e-08],\n",
       "       [-4.92631874e-08],\n",
       "       [-1.51309254e-09],\n",
       "       [-4.93604137e-08],\n",
       "       [ 2.63521808e-08]])"
      ]
     },
     "execution_count": 24,
     "metadata": {},
     "output_type": "execute_result"
    }
   ],
   "source": [
    "# Calcula deslocamentos\n",
    "u =  gauss_seidel(Kg_cc,F_cc, 100, 1e-6)\n",
    "u"
   ]
  },
  {
   "cell_type": "markdown",
   "metadata": {},
   "source": [
    "#### Completando a Matriz de deslocamentos "
   ]
  },
  {
   "cell_type": "code",
   "execution_count": 25,
   "metadata": {},
   "outputs": [
    {
     "data": {
      "text/html": [
       "<div>\n",
       "<style scoped>\n",
       "    .dataframe tbody tr th:only-of-type {\n",
       "        vertical-align: middle;\n",
       "    }\n",
       "\n",
       "    .dataframe tbody tr th {\n",
       "        vertical-align: top;\n",
       "    }\n",
       "\n",
       "    .dataframe thead th {\n",
       "        text-align: right;\n",
       "    }\n",
       "</style>\n",
       "<table border=\"1\" class=\"dataframe\">\n",
       "  <thead>\n",
       "    <tr style=\"text-align: right;\">\n",
       "      <th></th>\n",
       "      <th>Nodes</th>\n",
       "      <th>Displacement in X</th>\n",
       "      <th>Displacement in Y</th>\n",
       "    </tr>\n",
       "  </thead>\n",
       "  <tbody>\n",
       "    <tr>\n",
       "      <th>0</th>\n",
       "      <td>1</td>\n",
       "      <td>[0.0]</td>\n",
       "      <td>[0.0]</td>\n",
       "    </tr>\n",
       "    <tr>\n",
       "      <th>1</th>\n",
       "      <td>2</td>\n",
       "      <td>[0.0]</td>\n",
       "      <td>[0.0]</td>\n",
       "    </tr>\n",
       "    <tr>\n",
       "      <th>2</th>\n",
       "      <td>3</td>\n",
       "      <td>[-1.7137115715517222e-08]</td>\n",
       "      <td>[-1.5130925383320748e-09]</td>\n",
       "    </tr>\n",
       "    <tr>\n",
       "      <th>3</th>\n",
       "      <td>4</td>\n",
       "      <td>[-1.5965704425074376e-08]</td>\n",
       "      <td>[1.0894142870803036e-08]</td>\n",
       "    </tr>\n",
       "    <tr>\n",
       "      <th>4</th>\n",
       "      <td>5</td>\n",
       "      <td>[-4.9263187387893695e-08]</td>\n",
       "      <td>[-1.5130925383320748e-09]</td>\n",
       "    </tr>\n",
       "    <tr>\n",
       "      <th>5</th>\n",
       "      <td>6</td>\n",
       "      <td>[-4.936041366384405e-08]</td>\n",
       "      <td>[2.6352180829199596e-08]</td>\n",
       "    </tr>\n",
       "  </tbody>\n",
       "</table>\n",
       "</div>"
      ],
      "text/plain": [
       "   Nodes          Displacement in X          Displacement in Y\n",
       "0      1                      [0.0]                      [0.0]\n",
       "1      2                      [0.0]                      [0.0]\n",
       "2      3  [-1.7137115715517222e-08]  [-1.5130925383320748e-09]\n",
       "3      4  [-1.5965704425074376e-08]   [1.0894142870803036e-08]\n",
       "4      5  [-4.9263187387893695e-08]  [-1.5130925383320748e-09]\n",
       "5      6   [-4.936041366384405e-08]   [2.6352180829199596e-08]"
      ]
     },
     "execution_count": 25,
     "metadata": {},
     "output_type": "execute_result"
    }
   ],
   "source": [
    "# Matriz de deslocamentos completa (sem condicoes de contorno)\n",
    "u_comp = calcula_u_comp(u,R)\n",
    "nos = []\n",
    "deslocamentos_x = []\n",
    "deslocamentos_y = []\n",
    "for i in range(len(u_comp)):\n",
    "    if i%2 == 0:\n",
    "        deslocamentos_x.append(u_comp[i])\n",
    "        nos.append(int(i/2+1))\n",
    "    else:\n",
    "        deslocamentos_y.append(u_comp[i])\n",
    "        \n",
    "deslocamentos_nodais = pd.DataFrame()\n",
    "deslocamentos_nodais['Nodes'] = nos\n",
    "deslocamentos_nodais['Displacement in X'] = deslocamentos_x\n",
    "deslocamentos_nodais['Displacement in Y'] = deslocamentos_y\n",
    "\n",
    "deslocamentos_nodais"
   ]
  },
  {
   "cell_type": "markdown",
   "metadata": {},
   "source": [
    "#### Calculando Reações de Apoio as Deformações, Tensões e Forças Internas"
   ]
  },
  {
   "cell_type": "code",
   "execution_count": 26,
   "metadata": {},
   "outputs": [
    {
     "data": {
      "text/plain": [
       "array([[ 0.10621082],\n",
       "       [ 0.35736736],\n",
       "       [-0.13596878],\n",
       "       [-1.35968778]])"
      ]
     },
     "execution_count": 26,
     "metadata": {},
     "output_type": "execute_result"
    }
   ],
   "source": [
    "#Calcula as reacoes de apoio\n",
    "r_apoio = calcula_r_apoio(Kg, u_comp, R)\n",
    "r_apoio"
   ]
  },
  {
   "cell_type": "code",
   "execution_count": 27,
   "metadata": {},
   "outputs": [
    {
     "data": {
      "text/html": [
       "<div>\n",
       "<style scoped>\n",
       "    .dataframe tbody tr th:only-of-type {\n",
       "        vertical-align: middle;\n",
       "    }\n",
       "\n",
       "    .dataframe tbody tr th {\n",
       "        vertical-align: top;\n",
       "    }\n",
       "\n",
       "    .dataframe thead th {\n",
       "        text-align: right;\n",
       "    }\n",
       "</style>\n",
       "<table border=\"1\" class=\"dataframe\">\n",
       "  <thead>\n",
       "    <tr style=\"text-align: right;\">\n",
       "      <th></th>\n",
       "      <th>Element</th>\n",
       "      <th>Deformation</th>\n",
       "      <th>Tensile Force</th>\n",
       "      <th>Longitudinal Stress</th>\n",
       "    </tr>\n",
       "  </thead>\n",
       "  <tbody>\n",
       "    <tr>\n",
       "      <th>0</th>\n",
       "      <td>1</td>\n",
       "      <td>9.205517e-09</td>\n",
       "      <td>1.366469</td>\n",
       "      <td>1933.158624</td>\n",
       "    </tr>\n",
       "    <tr>\n",
       "      <th>1</th>\n",
       "      <td>2</td>\n",
       "      <td>-1.513093e-09</td>\n",
       "      <td>-0.224604</td>\n",
       "      <td>-317.749433</td>\n",
       "    </tr>\n",
       "    <tr>\n",
       "      <th>2</th>\n",
       "      <td>3</td>\n",
       "      <td>-1.145378e-09</td>\n",
       "      <td>-0.170020</td>\n",
       "      <td>-240.529476</td>\n",
       "    </tr>\n",
       "    <tr>\n",
       "      <th>3</th>\n",
       "      <td>4</td>\n",
       "      <td>0.000000e+00</td>\n",
       "      <td>0.000000</td>\n",
       "      <td>0.000000</td>\n",
       "    </tr>\n",
       "    <tr>\n",
       "      <th>4</th>\n",
       "      <td>5</td>\n",
       "      <td>1.464264e-09</td>\n",
       "      <td>0.217356</td>\n",
       "      <td>307.495464</td>\n",
       "    </tr>\n",
       "    <tr>\n",
       "      <th>5</th>\n",
       "      <td>6</td>\n",
       "      <td>0.000000e+00</td>\n",
       "      <td>0.000000</td>\n",
       "      <td>0.000000</td>\n",
       "    </tr>\n",
       "    <tr>\n",
       "      <th>6</th>\n",
       "      <td>7</td>\n",
       "      <td>-2.179012e-09</td>\n",
       "      <td>-0.323453</td>\n",
       "      <td>-457.592581</td>\n",
       "    </tr>\n",
       "    <tr>\n",
       "      <th>7</th>\n",
       "      <td>8</td>\n",
       "      <td>8.441439e-09</td>\n",
       "      <td>1.253049</td>\n",
       "      <td>1772.702099</td>\n",
       "    </tr>\n",
       "    <tr>\n",
       "      <th>8</th>\n",
       "      <td>9</td>\n",
       "      <td>-9.722628e-11</td>\n",
       "      <td>-0.014432</td>\n",
       "      <td>-20.417518</td>\n",
       "    </tr>\n",
       "  </tbody>\n",
       "</table>\n",
       "</div>"
      ],
      "text/plain": [
       "   Element   Deformation  Tensile Force  Longitudinal Stress\n",
       "0        1  9.205517e-09       1.366469          1933.158624\n",
       "1        2 -1.513093e-09      -0.224604          -317.749433\n",
       "2        3 -1.145378e-09      -0.170020          -240.529476\n",
       "3        4  0.000000e+00       0.000000             0.000000\n",
       "4        5  1.464264e-09       0.217356           307.495464\n",
       "5        6  0.000000e+00       0.000000             0.000000\n",
       "6        7 -2.179012e-09      -0.323453          -457.592581\n",
       "7        8  8.441439e-09       1.253049          1772.702099\n",
       "8        9 -9.722628e-11      -0.014432           -20.417518"
      ]
     },
     "execution_count": 27,
     "metadata": {},
     "output_type": "execute_result"
    }
   ],
   "source": [
    "# Calcula deformacoes\n",
    "d = calcula_deformacao(Inc,u_comp,l,R,trig)\n",
    "#Calcula tensoes\n",
    "t = calcula_tensao(E,d)\n",
    "F_interno = A*t \n",
    "\n",
    "\n",
    "df_informacoes = pd.DataFrame()\n",
    "elementos = []\n",
    "for i in range(nm):\n",
    "    elementos.append(i+1)\n",
    "\n",
    "df_informacoes['Element'] = elementos\n",
    "df_informacoes['Deformation'] = d\n",
    "df_informacoes['Tensile Force'] = F_interno\n",
    "df_informacoes['Longitudinal Stress'] = t\n",
    "df_informacoes"
   ]
  },
  {
   "cell_type": "markdown",
   "metadata": {},
   "source": [
    "#### Plotando gráfico com a deformação do problema (Ampliado em 1000 vezes)"
   ]
  },
  {
   "cell_type": "markdown",
   "metadata": {},
   "source": [
    "#### Gerando Saída txt com informações relevantes"
   ]
  },
  {
   "cell_type": "code",
   "execution_count": 28,
   "metadata": {},
   "outputs": [],
   "source": [
    "geraSaida(\"saida-final\", r_apoio, u_comp, d, F_interno, t)"
   ]
  }
 ],
 "metadata": {
  "kernelspec": {
   "display_name": "Python 3",
   "language": "python",
   "name": "python3"
  }
 },
 "nbformat": 4,
 "nbformat_minor": 4
}
