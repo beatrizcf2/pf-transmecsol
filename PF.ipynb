{
 "cells": [
  {
   "cell_type": "markdown",
   "metadata": {},
   "source": [
    "# SIMULADOR DE ESTRUTURAS COM TRELIÇAS PLANAS"
   ]
  },
  {
   "cell_type": "markdown",
   "metadata": {},
   "source": [
    "## Introdução "
   ]
  },
  {
   "cell_type": "markdown",
   "metadata": {},
   "source": [
    "## Estrutura do Código "
   ]
  },
  {
   "cell_type": "markdown",
   "metadata": {},
   "source": [
    "#### Imports das funções importantes"
   ]
  },
  {
   "cell_type": "code",
   "execution_count": 21,
   "metadata": {},
   "outputs": [],
   "source": [
    "# Imports das Funções\n",
    "from funcoesTermosol import *\n",
    "from funcoes_PF import *\n",
    "import pandas as pd"
   ]
  },
  {
   "cell_type": "markdown",
   "metadata": {},
   "source": [
    "#### Importando dados do arquivo de entrada "
   ]
  },
  {
   "cell_type": "code",
   "execution_count": 22,
   "metadata": {},
   "outputs": [
    {
     "name": "stdout",
     "output_type": "stream",
     "text": [
      "O módulo de elasticidade das treliças é: 210000000000.0 kPa. A área de seção trnavesal dessas treliças é 0.0007068583470577034 m2\n"
     ]
    }
   ],
   "source": [
    "#importando os dados\n",
    "[nn,N,nm,Inc,nc,F,nr,R] = importa('entrada-PF.xlsx')\n",
    "\n",
    "#Modulo de elasticidade\n",
    "E = Inc[0,2]\n",
    "\n",
    "#Area secao transversal\n",
    "A = Inc[0,3]\n",
    "\n",
    "print(f\"\"\"O módulo de elasticidade das treliças é: {E} kPa. A área de seção trnavesal dessas treliças é {A} m2\"\"\")"
   ]
  },
  {
   "cell_type": "code",
   "execution_count": 23,
   "metadata": {},
   "outputs": [
    {
     "data": {
      "text/plain": [
       "array([[0.],\n",
       "       [0.],\n",
       "       [0.],\n",
       "       [0.],\n",
       "       [0.],\n",
       "       [0.],\n",
       "       [0.],\n",
       "       [0.],\n",
       "       [0.],\n",
       "       [0.],\n",
       "       [0.],\n",
       "       [1.]])"
      ]
     },
     "execution_count": 23,
     "metadata": {},
     "output_type": "execute_result"
    }
   ],
   "source": [
    "F"
   ]
  },
  {
   "cell_type": "markdown",
   "metadata": {},
   "source": [
    "#### Plotando o esquema do arquivo de entrada\n",
    "![Screenshot](fotos/diagrama.png)"
   ]
  },
  {
   "cell_type": "code",
   "execution_count": 24,
   "metadata": {},
   "outputs": [
    {
     "data": {
      "image/png": "[encoded data removed]",
      "text/plain": [
       "<Figure size 432x288 with 1 Axes>"
      ]
     },
     "metadata": {
      "needs_background": "light"
     },
     "output_type": "display_data"
    }
   ],
   "source": [
    "plota(N,Inc)"
   ]
  },
  {
   "cell_type": "markdown",
   "metadata": {},
   "source": [
    "#### Criando matriz de conectividade"
   ]
  },
  {
   "cell_type": "code",
   "execution_count": 25,
   "metadata": {},
   "outputs": [
    {
     "data": {
      "text/plain": [
       "array([[ 0., -1., -1., -1.,  0.,  0.,  0.,  0.,  0.],\n",
       "       [-1.,  0.,  0.,  1.,  0.,  0.,  0.,  0.,  0.],\n",
       "       [ 0.,  1.,  0.,  0., -1., -1., -1.,  0.,  0.],\n",
       "       [ 1.,  0.,  1.,  0.,  1.,  0.,  0., -1.,  0.],\n",
       "       [ 0.,  0.,  0.,  0.,  0.,  1.,  0.,  0., -1.],\n",
       "       [ 0.,  0.,  0.,  0.,  0.,  0.,  1.,  1.,  1.]])"
      ]
     },
     "execution_count": 25,
     "metadata": {},
     "output_type": "execute_result"
    }
   ],
   "source": [
    "# Calculando matriz de conectividade\n",
    "C = conectividade(Inc, nn, nm)\n",
    "C"
   ]
  },
  {
   "cell_type": "markdown",
   "metadata": {},
   "source": [
    "#### Calculando a Matriz dos Membros "
   ]
  },
  {
   "cell_type": "code",
   "execution_count": 26,
   "metadata": {},
   "outputs": [
    {
     "data": {
      "text/plain": [
       "array([[0.1, 0. , 0.8, 0.7, 0.8, 0. , 1. , 0.2, 1. ],\n",
       "       [1. , 1. , 1. , 0. , 0. , 1. , 1. , 1. , 0. ]])"
      ]
     },
     "execution_count": 26,
     "metadata": {},
     "output_type": "execute_result"
    }
   ],
   "source": [
    "# Calcula matriz dos membros\n",
    "M = membros(N,C)\n",
    "M"
   ]
  },
  {
   "cell_type": "markdown",
   "metadata": {},
   "source": [
    "#### Calculando a Matriz de comprimento para cada elemento"
   ]
  },
  {
   "cell_type": "code",
   "execution_count": 27,
   "metadata": {},
   "outputs": [
    {
     "data": {
      "text/plain": [
       "array([[1.00498756],\n",
       "       [1.        ],\n",
       "       [1.28062485],\n",
       "       [0.7       ],\n",
       "       [0.8       ],\n",
       "       [1.        ],\n",
       "       [1.41421356],\n",
       "       [1.0198039 ],\n",
       "       [1.        ]])"
      ]
     },
     "execution_count": 27,
     "metadata": {},
     "output_type": "execute_result"
    }
   ],
   "source": [
    "# Calcula o comprimento de cada elemento\n",
    "l = calcula_l(M)\n",
    "l"
   ]
  },
  {
   "cell_type": "markdown",
   "metadata": {},
   "source": [
    "#### Calculando a Matriz trigonométrica"
   ]
  },
  {
   "cell_type": "code",
   "execution_count": 28,
   "metadata": {},
   "outputs": [
    {
     "data": {
      "text/plain": [
       "array([[-0.09950372, -0.99503719,  0.09950372,  0.99503719],\n",
       "       [-0.        , -1.        ,  0.        ,  1.        ],\n",
       "       [-0.62469505, -0.78086881,  0.62469505,  0.78086881],\n",
       "       [-1.        , -0.        ,  1.        ,  0.        ],\n",
       "       [-1.        , -0.        ,  1.        ,  0.        ],\n",
       "       [-0.        , -1.        ,  0.        ,  1.        ],\n",
       "       [-0.70710678, -0.70710678,  0.70710678,  0.70710678],\n",
       "       [-0.19611614, -0.98058068,  0.19611614,  0.98058068],\n",
       "       [-1.        , -0.        ,  1.        ,  0.        ]])"
      ]
     },
     "execution_count": 28,
     "metadata": {},
     "output_type": "execute_result"
    }
   ],
   "source": [
    "# Calcula matriz dos senos e cossenos\n",
    "trig = calcula_trig(N,M,l)\n",
    "trig"
   ]
  },
  {
   "cell_type": "markdown",
   "metadata": {},
   "source": [
    "#### Calculando Matriz de Rigidez Sem condições de Contorno"
   ]
  },
  {
   "cell_type": "code",
   "execution_count": 29,
   "metadata": {},
   "outputs": [
    {
     "data": {
      "text/plain": [
       "array([[ 2.57291597e+08,  5.65426164e+07, -2.12057504e+08,\n",
       "         0.00000000e+00,  0.00000000e+00,  0.00000000e+00,\n",
       "        -4.52340931e+07, -5.65426164e+07,  0.00000000e+00,\n",
       "         0.00000000e+00,  0.00000000e+00,  0.00000000e+00],\n",
       "       [ 5.65426164e+07,  2.19118523e+08,  0.00000000e+00,\n",
       "         0.00000000e+00,  0.00000000e+00, -1.48440253e+08,\n",
       "        -5.65426164e+07, -7.06782705e+07,  0.00000000e+00,\n",
       "         0.00000000e+00,  0.00000000e+00,  0.00000000e+00],\n",
       "       [-2.12057504e+08,  0.00000000e+00,  2.13519916e+08,\n",
       "         1.46241161e+07,  0.00000000e+00,  0.00000000e+00,\n",
       "        -1.46241161e+06, -1.46241161e+07,  0.00000000e+00,\n",
       "         0.00000000e+00,  0.00000000e+00,  0.00000000e+00],\n",
       "       [ 0.00000000e+00,  0.00000000e+00,  1.46241161e+07,\n",
       "         1.46241161e+08,  0.00000000e+00,  0.00000000e+00,\n",
       "        -1.46241161e+07, -1.46241161e+08,  0.00000000e+00,\n",
       "         0.00000000e+00,  0.00000000e+00,  0.00000000e+00],\n",
       "       [ 0.00000000e+00,  0.00000000e+00,  0.00000000e+00,\n",
       "         0.00000000e+00,  2.38031871e+08,  5.24815547e+07,\n",
       "        -1.85550316e+08,  0.00000000e+00,  0.00000000e+00,\n",
       "         0.00000000e+00, -5.24815547e+07, -5.24815547e+07],\n",
       "       [ 0.00000000e+00, -1.48440253e+08,  0.00000000e+00,\n",
       "         0.00000000e+00,  5.24815547e+07,  3.49362060e+08,\n",
       "         0.00000000e+00,  0.00000000e+00,  0.00000000e+00,\n",
       "        -1.48440253e+08, -5.24815547e+07, -5.24815547e+07],\n",
       "       [-4.52340931e+07, -5.65426164e+07, -1.46241161e+06,\n",
       "        -1.46241161e+07, -1.85550316e+08,  0.00000000e+00,\n",
       "         2.37845192e+08,  9.91585869e+07,  0.00000000e+00,\n",
       "         0.00000000e+00, -5.59837090e+06, -2.79918545e+07],\n",
       "       [-5.65426164e+07, -7.06782705e+07, -1.46241161e+07,\n",
       "        -1.46241161e+08,  0.00000000e+00,  0.00000000e+00,\n",
       "         9.91585869e+07,  3.56878704e+08,  0.00000000e+00,\n",
       "         0.00000000e+00, -2.79918545e+07, -1.39959273e+08],\n",
       "       [ 0.00000000e+00,  0.00000000e+00,  0.00000000e+00,\n",
       "         0.00000000e+00,  0.00000000e+00,  0.00000000e+00,\n",
       "         0.00000000e+00,  0.00000000e+00,  1.48440253e+08,\n",
       "         0.00000000e+00, -1.48440253e+08,  0.00000000e+00],\n",
       "       [ 0.00000000e+00,  0.00000000e+00,  0.00000000e+00,\n",
       "         0.00000000e+00,  0.00000000e+00, -1.48440253e+08,\n",
       "         0.00000000e+00,  0.00000000e+00,  0.00000000e+00,\n",
       "         1.48440253e+08,  0.00000000e+00,  0.00000000e+00],\n",
       "       [ 0.00000000e+00,  0.00000000e+00,  0.00000000e+00,\n",
       "         0.00000000e+00, -5.24815547e+07, -5.24815547e+07,\n",
       "        -5.59837090e+06, -2.79918545e+07, -1.48440253e+08,\n",
       "         0.00000000e+00,  2.06520178e+08,  8.04734092e+07],\n",
       "       [ 0.00000000e+00,  0.00000000e+00,  0.00000000e+00,\n",
       "         0.00000000e+00, -5.24815547e+07, -5.24815547e+07,\n",
       "        -2.79918545e+07, -1.39959273e+08,  0.00000000e+00,\n",
       "         0.00000000e+00,  8.04734092e+07,  1.92440827e+08]])"
      ]
     },
     "execution_count": 29,
     "metadata": {},
     "output_type": "execute_result"
    }
   ],
   "source": [
    "#Calcula matriz de rigidez global e de cada elemento\n",
    "Kg,Ke = calcula_Ke(C,M,E,A,nn)\n",
    "Kg"
   ]
  },
  {
   "cell_type": "markdown",
   "metadata": {},
   "source": [
    "#### Criando Matriz de Rigidez com as Condições de Contorno Aplicadas "
   ]
  },
  {
   "cell_type": "code",
   "execution_count": 30,
   "metadata": {},
   "outputs": [
    {
     "data": {
      "text/plain": [
       "array([[ 2.38031871e+08,  5.24815547e+07, -1.85550316e+08,\n",
       "         0.00000000e+00,  0.00000000e+00,  0.00000000e+00,\n",
       "        -5.24815547e+07, -5.24815547e+07],\n",
       "       [ 5.24815547e+07,  3.49362060e+08,  0.00000000e+00,\n",
       "         0.00000000e+00,  0.00000000e+00, -1.48440253e+08,\n",
       "        -5.24815547e+07, -5.24815547e+07],\n",
       "       [-1.85550316e+08,  0.00000000e+00,  2.37845192e+08,\n",
       "         9.91585869e+07,  0.00000000e+00,  0.00000000e+00,\n",
       "        -5.59837090e+06, -2.79918545e+07],\n",
       "       [ 0.00000000e+00,  0.00000000e+00,  9.91585869e+07,\n",
       "         3.56878704e+08,  0.00000000e+00,  0.00000000e+00,\n",
       "        -2.79918545e+07, -1.39959273e+08],\n",
       "       [ 0.00000000e+00,  0.00000000e+00,  0.00000000e+00,\n",
       "         0.00000000e+00,  1.48440253e+08,  0.00000000e+00,\n",
       "        -1.48440253e+08,  0.00000000e+00],\n",
       "       [ 0.00000000e+00, -1.48440253e+08,  0.00000000e+00,\n",
       "         0.00000000e+00,  0.00000000e+00,  1.48440253e+08,\n",
       "         0.00000000e+00,  0.00000000e+00],\n",
       "       [-5.24815547e+07, -5.24815547e+07, -5.59837090e+06,\n",
       "        -2.79918545e+07, -1.48440253e+08,  0.00000000e+00,\n",
       "         2.06520178e+08,  8.04734092e+07],\n",
       "       [-5.24815547e+07, -5.24815547e+07, -2.79918545e+07,\n",
       "        -1.39959273e+08,  0.00000000e+00,  0.00000000e+00,\n",
       "         8.04734092e+07,  1.92440827e+08]])"
      ]
     },
     "execution_count": 30,
     "metadata": {},
     "output_type": "execute_result"
    }
   ],
   "source": [
    "# Matriz de rigidez global com condicoes de contorno aplicadas\n",
    "Kg_cc = aplica_cc(Kg,R)\n",
    "Kg_cc"
   ]
  },
  {
   "cell_type": "markdown",
   "metadata": {},
   "source": [
    "#### Criando Vetor de Forças com as Confições de Contorno Aplicadas "
   ]
  },
  {
   "cell_type": "code",
   "execution_count": 31,
   "metadata": {},
   "outputs": [
    {
     "data": {
      "text/plain": [
       "array([[0.],\n",
       "       [0.],\n",
       "       [0.],\n",
       "       [0.],\n",
       "       [0.],\n",
       "       [0.],\n",
       "       [0.],\n",
       "       [1.]])"
      ]
     },
     "execution_count": 31,
     "metadata": {},
     "output_type": "execute_result"
    }
   ],
   "source": [
    "# Vetor de Forcas com condicoes de contorno\n",
    "F_cc = aplica_cc(F,R)\n",
    "F_cc"
   ]
  },
  {
   "cell_type": "markdown",
   "metadata": {},
   "source": [
    "#### Calculando os Deslocamentos Pelo Método de Jacobi "
   ]
  },
  {
   "cell_type": "code",
   "execution_count": 32,
   "metadata": {},
   "outputs": [
    {
     "name": "stderr",
     "output_type": "stream",
     "text": [
      "/Users/beatrizcf/Engenharia/5Semestre/Transca/PF/funcoes_PF.py:98: RuntimeWarning: invalid value encountered in true_divide\n",
      "  err = max(abs((xnew-x)/xnew))\n"
     ]
    },
    {
     "data": {
      "text/plain": [
       "array([[ 0.0014296 ],\n",
       "       [ 0.00119362],\n",
       "       [-0.00040273],\n",
       "       [ 0.00079761],\n",
       "       [ 0.00245309],\n",
       "       [-0.00102297],\n",
       "       [-0.00286239],\n",
       "       [-0.00208587]])"
      ]
     },
     "execution_count": 32,
     "metadata": {},
     "output_type": "execute_result"
    }
   ],
   "source": [
    "# Calcula deslocamentos\n",
    "u = calcula_jacobi(Kg_cc, F_cc, 1e-5)\n",
    "u"
   ]
  },
  {
   "cell_type": "markdown",
   "metadata": {},
   "source": [
    "#### Completando a Matriz de deslocamentos "
   ]
  },
  {
   "cell_type": "markdown",
   "metadata": {},
   "source": [
    "![Screenshot](fotos/diagrama.png)"
   ]
  },
  {
   "cell_type": "code",
   "execution_count": 40,
   "metadata": {},
   "outputs": [
    {
     "data": {
      "text/plain": [
       "array([[ 0.        ],\n",
       "       [ 0.        ],\n",
       "       [ 0.        ],\n",
       "       [ 0.        ],\n",
       "       [ 0.0014296 ],\n",
       "       [ 0.00119362],\n",
       "       [-0.00040273],\n",
       "       [ 0.00079761],\n",
       "       [ 0.00245309],\n",
       "       [-0.00102297],\n",
       "       [-0.00286239],\n",
       "       [-0.00208587]])"
      ]
     },
     "execution_count": 40,
     "metadata": {},
     "output_type": "execute_result"
    }
   ],
   "source": [
    "u_comp"
   ]
  },
  {
   "cell_type": "code",
   "execution_count": 33,
   "metadata": {},
   "outputs": [
    {
     "data": {
      "text/html": [
       "<div>\n",
       "<style scoped>\n",
       "    .dataframe tbody tr th:only-of-type {\n",
       "        vertical-align: middle;\n",
       "    }\n",
       "\n",
       "    .dataframe tbody tr th {\n",
       "        vertical-align: top;\n",
       "    }\n",
       "\n",
       "    .dataframe thead th {\n",
       "        text-align: right;\n",
       "    }\n",
       "</style>\n",
       "<table border=\"1\" class=\"dataframe\">\n",
       "  <thead>\n",
       "    <tr style=\"text-align: right;\">\n",
       "      <th></th>\n",
       "      <th>Nodes</th>\n",
       "      <th>Displacement in X</th>\n",
       "      <th>Displacement in Y</th>\n",
       "    </tr>\n",
       "  </thead>\n",
       "  <tbody>\n",
       "    <tr>\n",
       "      <th>0</th>\n",
       "      <td>1</td>\n",
       "      <td>[0.0]</td>\n",
       "      <td>[0.0]</td>\n",
       "    </tr>\n",
       "    <tr>\n",
       "      <th>1</th>\n",
       "      <td>2</td>\n",
       "      <td>[0.0]</td>\n",
       "      <td>[0.0]</td>\n",
       "    </tr>\n",
       "    <tr>\n",
       "      <th>2</th>\n",
       "      <td>3</td>\n",
       "      <td>[0.0014295986699542466]</td>\n",
       "      <td>[0.0011936217467846792]</td>\n",
       "    </tr>\n",
       "    <tr>\n",
       "      <th>3</th>\n",
       "      <td>4</td>\n",
       "      <td>[-0.00040273154140567396]</td>\n",
       "      <td>[0.0007976071781262212]</td>\n",
       "    </tr>\n",
       "    <tr>\n",
       "      <th>4</th>\n",
       "      <td>5</td>\n",
       "      <td>[0.0024530910010341026]</td>\n",
       "      <td>[-0.0010229744527742968]</td>\n",
       "    </tr>\n",
       "    <tr>\n",
       "      <th>5</th>\n",
       "      <td>6</td>\n",
       "      <td>[-0.0028623945750693965]</td>\n",
       "      <td>[-0.002085870065721825]</td>\n",
       "    </tr>\n",
       "  </tbody>\n",
       "</table>\n",
       "</div>"
      ],
      "text/plain": [
       "   Nodes          Displacement in X         Displacement in Y\n",
       "0      1                      [0.0]                     [0.0]\n",
       "1      2                      [0.0]                     [0.0]\n",
       "2      3    [0.0014295986699542466]   [0.0011936217467846792]\n",
       "3      4  [-0.00040273154140567396]   [0.0007976071781262212]\n",
       "4      5    [0.0024530910010341026]  [-0.0010229744527742968]\n",
       "5      6   [-0.0028623945750693965]   [-0.002085870065721825]"
      ]
     },
     "execution_count": 33,
     "metadata": {},
     "output_type": "execute_result"
    }
   ],
   "source": [
    "# Matriz de deslocamentos completa (sem condicoes de contorno)\n",
    "u_comp = calcula_u_comp(u,R)\n",
    "nos = []\n",
    "deslocamentos_x = []\n",
    "deslocamentos_y = []\n",
    "for i in range(len(u_comp)):\n",
    "    if i%2 == 0:\n",
    "        deslocamentos_x.append(u_comp[i])\n",
    "        nos.append(int(i/2+1))\n",
    "    else:\n",
    "        deslocamentos_y.append(u_comp[i])\n",
    "        \n",
    "deslocamentos_nodais = pd.DataFrame()\n",
    "deslocamentos_nodais['Nodes'] = nos\n",
    "deslocamentos_nodais['Displacement in X'] = deslocamentos_x\n",
    "deslocamentos_nodais['Displacement in Y'] = deslocamentos_y\n",
    "\n",
    "deslocamentos_nodais"
   ]
  },
  {
   "cell_type": "markdown",
   "metadata": {},
   "source": [
    "#### Calculando Reações de Apoio as Deformações, Tensões e Forças Internas"
   ]
  },
  {
   "cell_type": "code",
   "execution_count": 34,
   "metadata": {},
   "outputs": [
    {
     "data": {
      "text/plain": [
       "array([[ -26881.60064616],\n",
       "       [-210783.51474602],\n",
       "       [ -11075.34065815],\n",
       "       [-110753.40658145]])"
      ]
     },
     "execution_count": 34,
     "metadata": {},
     "output_type": "execute_result"
    }
   ],
   "source": [
    "#Calcula as reacoes de apoio\n",
    "r_apoio = calcula_r_apoio(Kg, u_comp, R)\n",
    "r_apoio"
   ]
  },
  {
   "cell_type": "code",
   "execution_count": 35,
   "metadata": {},
   "outputs": [
    {
     "data": {
      "text/html": [
       "<div>\n",
       "<style scoped>\n",
       "    .dataframe tbody tr th:only-of-type {\n",
       "        vertical-align: middle;\n",
       "    }\n",
       "\n",
       "    .dataframe tbody tr th {\n",
       "        vertical-align: top;\n",
       "    }\n",
       "\n",
       "    .dataframe thead th {\n",
       "        text-align: right;\n",
       "    }\n",
       "</style>\n",
       "<table border=\"1\" class=\"dataframe\">\n",
       "  <thead>\n",
       "    <tr style=\"text-align: right;\">\n",
       "      <th></th>\n",
       "      <th>Element</th>\n",
       "      <th>Deformation</th>\n",
       "      <th>Tensile Force</th>\n",
       "      <th>Longitudinal Stress</th>\n",
       "    </tr>\n",
       "  </thead>\n",
       "  <tbody>\n",
       "    <tr>\n",
       "      <th>0</th>\n",
       "      <td>1</td>\n",
       "      <td>0.000750</td>\n",
       "      <td>111305.796076</td>\n",
       "      <td>1.574655e+08</td>\n",
       "    </tr>\n",
       "    <tr>\n",
       "      <th>1</th>\n",
       "      <td>2</td>\n",
       "      <td>0.001194</td>\n",
       "      <td>177181.513938</td>\n",
       "      <td>2.506606e+08</td>\n",
       "    </tr>\n",
       "    <tr>\n",
       "      <th>2</th>\n",
       "      <td>3</td>\n",
       "      <td>0.000290</td>\n",
       "      <td>43031.557160</td>\n",
       "      <td>6.087720e+07</td>\n",
       "    </tr>\n",
       "    <tr>\n",
       "      <th>3</th>\n",
       "      <td>4</td>\n",
       "      <td>0.000000</td>\n",
       "      <td>0.000000</td>\n",
       "      <td>0.000000e+00</td>\n",
       "    </tr>\n",
       "    <tr>\n",
       "      <th>4</th>\n",
       "      <td>5</td>\n",
       "      <td>-0.002290</td>\n",
       "      <td>-339989.449922</td>\n",
       "      <td>-4.809867e+08</td>\n",
       "    </tr>\n",
       "    <tr>\n",
       "      <th>5</th>\n",
       "      <td>6</td>\n",
       "      <td>-0.002217</td>\n",
       "      <td>-329032.100400</td>\n",
       "      <td>-4.654852e+08</td>\n",
       "    </tr>\n",
       "    <tr>\n",
       "      <th>6</th>\n",
       "      <td>7</td>\n",
       "      <td>-0.003786</td>\n",
       "      <td>-561956.578316</td>\n",
       "      <td>-7.950059e+08</td>\n",
       "    </tr>\n",
       "    <tr>\n",
       "      <th>7</th>\n",
       "      <td>8</td>\n",
       "      <td>-0.003246</td>\n",
       "      <td>-481775.665193</td>\n",
       "      <td>-6.815731e+08</td>\n",
       "    </tr>\n",
       "    <tr>\n",
       "      <th>8</th>\n",
       "      <td>9</td>\n",
       "      <td>-0.005315</td>\n",
       "      <td>-789032.023108</td>\n",
       "      <td>-1.116252e+09</td>\n",
       "    </tr>\n",
       "  </tbody>\n",
       "</table>\n",
       "</div>"
      ],
      "text/plain": [
       "   Element  Deformation  Tensile Force  Longitudinal Stress\n",
       "0        1     0.000750  111305.796076         1.574655e+08\n",
       "1        2     0.001194  177181.513938         2.506606e+08\n",
       "2        3     0.000290   43031.557160         6.087720e+07\n",
       "3        4     0.000000       0.000000         0.000000e+00\n",
       "4        5    -0.002290 -339989.449922        -4.809867e+08\n",
       "5        6    -0.002217 -329032.100400        -4.654852e+08\n",
       "6        7    -0.003786 -561956.578316        -7.950059e+08\n",
       "7        8    -0.003246 -481775.665193        -6.815731e+08\n",
       "8        9    -0.005315 -789032.023108        -1.116252e+09"
      ]
     },
     "execution_count": 35,
     "metadata": {},
     "output_type": "execute_result"
    }
   ],
   "source": [
    "# Calcula deformacoes\n",
    "d = calcula_deformacao(Inc,u_comp,l,R,trig)\n",
    "#Calcula tensoes\n",
    "t = calcula_tensao(E,d)\n",
    "F_interno = A*t \n",
    "\n",
    "\n",
    "df_informacoes = pd.DataFrame()\n",
    "elementos = []\n",
    "for i in range(nm):\n",
    "    elementos.append(i+1)\n",
    "\n",
    "df_informacoes['Element'] = elementos\n",
    "df_informacoes['Deformation'] = d\n",
    "df_informacoes['Tensile Force'] = F_interno\n",
    "df_informacoes['Longitudinal Stress'] = t\n",
    "df_informacoes"
   ]
  },
  {
   "cell_type": "markdown",
   "metadata": {},
   "source": [
    "#### Plotando gráfico com a deformação do problema (Ampliado em 1000 vezes)"
   ]
  },
  {
   "cell_type": "markdown",
   "metadata": {},
   "source": [
    "#### Gerando Saída txt com informações relevantes"
   ]
  },
  {
   "cell_type": "code",
   "execution_count": 36,
   "metadata": {},
   "outputs": [],
   "source": [
    "geraSaida(\"saida-final\", r_apoio, u_comp, d, F_interno, t)"
   ]
  },
  {
   "cell_type": "markdown",
   "metadata": {},
   "source": [
    "## Conclusão "
   ]
  },
  {
   "cell_type": "markdown",
   "metadata": {},
   "source": [
    "## Referências "
   ]
  },
  {
   "cell_type": "code",
   "execution_count": 37,
   "metadata": {},
   "outputs": [
    {
     "name": "stdout",
     "output_type": "stream",
     "text": [
      "[177181.51393831]\n"
     ]
    }
   ],
   "source": [
    "print(max(F_interno))"
   ]
  },
  {
   "cell_type": "code",
   "execution_count": 38,
   "metadata": {},
   "outputs": [
    {
     "data": {
      "text/plain": [
       "array([[ 111305.7960759 ],\n",
       "       [ 177181.51393831],\n",
       "       [  43031.55715961],\n",
       "       [      0.        ],\n",
       "       [-339989.44992226],\n",
       "       [-329032.10040008],\n",
       "       [-561956.57831648],\n",
       "       [-481775.66519327],\n",
       "       [-789032.02310805]])"
      ]
     },
     "execution_count": 38,
     "metadata": {},
     "output_type": "execute_result"
    }
   ],
   "source": [
    "F_interno"
   ]
  },
  {
   "cell_type": "code",
   "execution_count": null,
   "metadata": {},
   "outputs": [],
   "source": []
  }
 ],
 "metadata": {
  "kernelspec": {
   "display_name": "Python 3",
   "language": "python",
   "name": "python3"
  },
  "language_info": {
   "codemirror_mode": {
    "name": "ipython",
    "version": 3
   },
   "file_extension": ".py",
   "mimetype": "text/x-python",
   "name": "python",
   "nbconvert_exporter": "python",
   "pygments_lexer": "ipython3",
   "version": "3.8.3"
  }
 },
 "nbformat": 4,
 "nbformat_minor": 4
}
