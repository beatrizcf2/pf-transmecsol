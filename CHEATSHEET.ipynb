{
 "cells": [
  {
   "cell_type": "code",
   "execution_count": 1,
   "metadata": {},
   "outputs": [],
   "source": [
    "from math import *\n"
   ]
  },
  {
   "cell_type": "code",
   "execution_count": 8,
   "metadata": {},
   "outputs": [],
   "source": [
    "def calcula_tensao(F,A):\n",
    "    σ = F/A\n",
    "    print(\"σ: \", σ)\n",
    "    return σ\n",
    "\n",
    "def calcula_Fs(σr, σa, Fsmin):\n",
    "    Fs = σr/σa\n",
    "    print(f\"Fator de seguranca {Fs}\")\n",
    "    if Fs<Fsmin:\n",
    "        print(\"Putz, rompeu\\n\")\n",
    "    else: \n",
    "        print(\"Ta safe\\n\")\n",
    "    return Fs\n",
    "\n",
    "def calcula_Area_Fs(Fs, F, σr):\n",
    "    '''\n",
    "    recebe Fs, Forca normal e Tensao de ruptura\n",
    "    e retorna o novo valor de area que atenda o\n",
    "    fator de seguranca desejado\n",
    "    '''\n",
    "    A = (F*Fs)/σr\n",
    "    print(f'Nova area: {A}')\n",
    "    return A\n",
    "\n",
    "\n",
    "\n",
    "    "
   ]
  },
  {
   "cell_type": "code",
   "execution_count": 9,
   "metadata": {},
   "outputs": [
    {
     "name": "stdout",
     "output_type": "stream",
     "text": [
      "σ: \n",
      " 26666666.666666668\n",
      "σ: \n",
      " 159154943.09189534\n",
      "Fator de seguranca 8.4375\n",
      "Ta safe\n",
      "\n",
      "Fator de seguranca 1.413716694115407\n",
      "Putz, rompeu\n",
      "\n"
     ]
    }
   ],
   "source": [
    "Na = 40e3\n",
    "Aa = 50e-3*30e-3\n",
    "\n",
    "Nb = 50e3\n",
    "Ab = pi*(10e-3)**2\n",
    "\n",
    "σa = calcula_tensao(Na,Aa)\n",
    "σb = calcula_tensao(Nb, Ab)\n",
    "\n",
    "Fsmin = 1.8\n",
    "σr = 225e6\n",
    "Fsa = calcula_Fs(σr, σa, Fsmin)\n",
    "Fsb = calcula_Fs(σr, σb, Fsmin)\n",
    "\n",
    "\n",
    "\n",
    "\n",
    "\n"
   ]
  },
  {
   "cell_type": "code",
   "execution_count": null,
   "metadata": {},
   "outputs": [],
   "source": []
  }
 ],
 "metadata": {
  "kernelspec": {
   "display_name": "Python 3",
   "language": "python",
   "name": "python3"
  },
  "language_info": {
   "codemirror_mode": {
    "name": "ipython",
    "version": 3
   },
   "file_extension": ".py",
   "mimetype": "text/x-python",
   "name": "python",
   "nbconvert_exporter": "python",
   "pygments_lexer": "ipython3",
   "version": "3.8.3"
  }
 },
 "nbformat": 4,
 "nbformat_minor": 4
}
